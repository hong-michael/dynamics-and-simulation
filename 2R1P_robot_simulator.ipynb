{
  "cells": [
    {
      "cell_type": "markdown",
      "metadata": {
        "id": "view-in-github",
        "colab_type": "text"
      },
      "source": [
        "<a href=\"https://colab.research.google.com/github/hong-michael/dynamics-and-simulation/blob/main/2R1P_robot_simulator.ipynb\" target=\"_parent\"><img src=\"https://colab.research.google.com/assets/colab-badge.svg\" alt=\"Open In Colab\"/></a>"
      ]
    },
    {
      "cell_type": "markdown",
      "id": "environmental-mission",
      "metadata": {
        "id": "environmental-mission"
      },
      "source": [
        "# Homework 4\n",
        "## hongm\n",
        "## ME 334: Advanced Dynamics, Control and System Identification\n",
        "### Stanford University"
      ]
    },
    {
      "cell_type": "code",
      "execution_count": 2,
      "id": "first-accessory",
      "metadata": {
        "id": "first-accessory"
      },
      "outputs": [],
      "source": [
        "# imports\n",
        "import numpy as np\n",
        "import sympy as sp\n",
        "from sympy import *\n",
        "from sympy.vector import *\n",
        "init_printing(use_unicode=True)\n",
        "\n",
        "\n",
        "import matplotlib.pyplot as plt  #This is used for static graphs\n",
        "from mpl_toolkits.mplot3d import Axes3D\n",
        "import mpl_toolkits.mplot3d.axes3d as p3"
      ]
    },
    {
      "cell_type": "markdown",
      "id": "chubby-signal",
      "metadata": {
        "id": "chubby-signal"
      },
      "source": [
        "## Setup"
      ]
    },
    {
      "cell_type": "code",
      "execution_count": 3,
      "id": "abandoned-climb",
      "metadata": {
        "id": "abandoned-climb"
      },
      "outputs": [],
      "source": [
        "# defining free parameters\n",
        "th1 = symbols(r'\\theta_1')  # variables\n",
        "th2 = symbols(r'\\theta_2')\n",
        "r3 = symbols(r'r_3')\n",
        "dth1 = symbols(r'\\dot{\\theta}_1')  # first derivatives\n",
        "dth2 = symbols(r'\\dot{\\theta}_2')\n",
        "dr3 = symbols(r'\\dot{r}_3')\n",
        "ddth1 = symbols(r'\\ddot{\\theta}_1')  # second derivatives\n",
        "ddth2 = symbols(r'\\ddot{\\theta}_2')\n",
        "ddr3 = symbols(r'\\ddot{r}_3')"
      ]
    },
    {
      "cell_type": "code",
      "execution_count": 4,
      "id": "collectible-wagon",
      "metadata": {
        "id": "collectible-wagon"
      },
      "outputs": [],
      "source": [
        "## functions for kinematics\n",
        "def rot_z(theta):\n",
        "    R = Matrix([\n",
        "        [sp.cos(theta), -sp.sin(theta), 0],\n",
        "        [sp.sin(theta), sp.cos(theta), 0],\n",
        "        [0, 0, 1],\n",
        "    ])\n",
        "    return R\n",
        "\n",
        "def rot_y(theta):\n",
        "    R = Matrix([\n",
        "        [sp.cos(theta), 0, sp.sin(theta)],\n",
        "        [0,1,0],\n",
        "        [-sp.sin(theta),0, sp.cos(theta)],\n",
        "    ])\n",
        "    return R\n",
        "\n",
        "def rot_x(theta):\n",
        "    R = Matrix([\n",
        "        [1, 0, 0],\n",
        "        [0, sp.cos(theta), -sp.sin(theta)],\n",
        "        [0, sp.sin(theta), sp.cos(theta)],\n",
        "    ])\n",
        "    return R"
      ]
    },
    {
      "cell_type": "markdown",
      "source": [
        "## Use HW3 code in this section\n",
        "#### (yours if verified, or solution code when it becomes available)\n"
      ],
      "metadata": {
        "id": "xTK7g7anXCX9"
      },
      "id": "xTK7g7anXCX9"
    },
    {
      "cell_type": "code",
      "execution_count": 5,
      "id": "absolute-struggle",
      "metadata": {
        "id": "absolute-struggle"
      },
      "outputs": [],
      "source": [
        "## frames and joint variables\n",
        "\n",
        "## [TODO] Define rotations between frames (you can use the above functions)\n",
        "R_AB = rot_z(th1)\n",
        "R_BC = rot_x(th2)"
      ]
    },
    {
      "cell_type": "code",
      "execution_count": 7,
      "id": "demographic-punch",
      "metadata": {
        "id": "demographic-punch"
      },
      "outputs": [],
      "source": [
        "## link geometry\n",
        "########### (WATCH OUT FOR UNITS!) #############\n",
        "\n",
        "## [TODO] Fill in the data from the problem\n",
        "\n",
        "## kinematic params\n",
        "L1 = 0.130  # OQ\n",
        "L2 = 0.300  # QR\n",
        "\n",
        "# link 1\n",
        "H1v = 0.200  # Height of vertical cylinder\n",
        "R1v = 0.025  # Radius of vertical cylinder\n",
        "H1h = L2 - R1v  # Height (length) of horizontal cylinder\n",
        "R1h = 0.0175  # Radius of horizontal cylinder\n",
        "\n",
        "# link 2\n",
        "H2 = 0.250\n",
        "R2i = 0.006\n",
        "R2e = 0.012\n",
        "\n",
        "# link 3\n",
        "H3 = 0.250\n",
        "R3 = 0.0055\n",
        "\n",
        "## density of aluminum\n",
        "rho = 2700"
      ]
    },
    {
      "cell_type": "markdown",
      "id": "removable-market",
      "metadata": {
        "id": "removable-market"
      },
      "source": [
        "First, we compute the locations of the centers of mass of each link."
      ]
    },
    {
      "cell_type": "code",
      "execution_count": 8,
      "id": "rural-result",
      "metadata": {
        "id": "rural-result",
        "outputId": "13071345-3243-4d44-80b9-3cf69e7bea7f",
        "colab": {
          "base_uri": "https://localhost:8080/",
          "height": 38
        }
      },
      "outputs": [
        {
          "output_type": "execute_result",
          "data": {
            "text/plain": [
              "(1.774656237581747, 0.2290221044466959, 0.06414739499548658)"
            ],
            "text/latex": "$\\displaystyle \\left( 1.77465623758175, \\  0.229022104446696, \\  0.0641473949954866\\right)$"
          },
          "metadata": {},
          "execution_count": 8
        }
      ],
      "source": [
        "def mass_cylinder(R, H, rho):\n",
        "    return np.pi * R ** 2 * H * rho\n",
        "\n",
        "m1 = mass_cylinder(R1v, H1v, rho) + mass_cylinder(R1h, H1h, rho)\n",
        "m2 = mass_cylinder(R2e, H2, rho) - mass_cylinder(R2i, H2, rho)\n",
        "m3 = mass_cylinder(R3, H3, rho)\n",
        "\n",
        "m1, m2, m3"
      ]
    },
    {
      "cell_type": "code",
      "source": [
        "# Location of P1 (COM 1)\n",
        "mv = np.pi * (R1v ** 2) * H1v * rho  # Vertical mass\n",
        "mh = np.pi * (R1h ** 2) * H1h * rho  # Horizontal mass\n",
        "locv = Matrix([[0], [0], [H1v / 2]])  # Vertical location, A frame\n",
        "loch = Matrix([[-(H1h / 2 + R1v) * sin(th1)], [(H1h / 2 + R1v) * cos(th1)], [L1]])  # Horizontal location, A frame\n",
        "A_r_OP1 = (mv * locv + mh * loch) / (mv + mh)\n",
        "\n",
        "# Location of P2 (COM2)\n",
        "C_r_RP2 = Matrix([[0], [H2/2], [0]])  # Location 2, C frame\n",
        "B_r_QP2 = R_BC * C_r_RP2 + Matrix([[0], [L2], [0]])  # Transform to B frame\n",
        "A_r_OP2 = R_AB * B_r_QP2 + Matrix([[0], [0], [L1]])  # Transform to A frame\n",
        "\n",
        "\n",
        "# Location of P3 (COM3)\n",
        "C_r_RP3 = Matrix([[0], [r3-H3/2], [0]])  # Location 2, C frame\n",
        "B_r_QP3 = R_BC * C_r_RP3 + Matrix([[0], [L2], [0]]) # Transform to B frame\n",
        "A_r_OP3 = R_AB * B_r_QP3 + Matrix([[0], [0], [L1]])  # Transform to A frame\n",
        "\n",
        "A_r_OP3"
      ],
      "metadata": {
        "colab": {
          "base_uri": "https://localhost:8080/",
          "height": 78
        },
        "id": "gtkh_wltRt7_",
        "outputId": "afb42ed9-034f-4c4e-dd91-0765ad8a73fd"
      },
      "id": "gtkh_wltRt7_",
      "execution_count": 9,
      "outputs": [
        {
          "output_type": "execute_result",
          "data": {
            "text/plain": [
              "⎡-((r₃ - 0.125)⋅cos(\\theta₂) + 0.3)⋅sin(\\theta₁)⎤\n",
              "⎢                                               ⎥\n",
              "⎢((r₃ - 0.125)⋅cos(\\theta₂) + 0.3)⋅cos(\\theta₁) ⎥\n",
              "⎢                                               ⎥\n",
              "⎣       (r₃ - 0.125)⋅sin(\\theta₂) + 0.13        ⎦"
            ],
            "text/latex": "$\\displaystyle \\left[\\begin{matrix}- \\left(\\left(r_{3} - 0.125\\right) \\cos{\\left(\\theta_{2} \\right)} + 0.3\\right) \\sin{\\left(\\theta_{1} \\right)}\\\\\\left(\\left(r_{3} - 0.125\\right) \\cos{\\left(\\theta_{2} \\right)} + 0.3\\right) \\cos{\\left(\\theta_{1} \\right)}\\\\\\left(r_{3} - 0.125\\right) \\sin{\\left(\\theta_{2} \\right)} + 0.13\\end{matrix}\\right]$"
          },
          "metadata": {},
          "execution_count": 9
        }
      ]
    },
    {
      "cell_type": "markdown",
      "id": "conventional-montgomery",
      "metadata": {
        "id": "conventional-montgomery"
      },
      "source": [
        "Second, we compute the velocities of the centers of mass of each link."
      ]
    },
    {
      "cell_type": "code",
      "execution_count": 10,
      "id": "pending-designer",
      "metadata": {
        "id": "pending-designer"
      },
      "outputs": [],
      "source": [
        "# Angular velocities\n",
        "A_w_AB = dth1 * Matrix([[0], [0], [1]])\n",
        "A_w_BC = R_AB * (R_BC * (dth2 * Matrix([[1], [0], [0]])))\n",
        "A_w_AC = A_w_AB + A_w_BC"
      ]
    },
    {
      "cell_type": "code",
      "source": [
        "# Computing A_v_AP1 - no translational velocity\n",
        "A_v_AP1 = A_w_AB.cross(A_r_OP1)  # Note: B_w_AB = A_w_AB\n",
        "\n",
        "# Computing A_v_AP2\n",
        "A_v_AP2 = sp.simplify(A_w_AB.cross(A_r_OP2) + A_w_BC.cross(R_AB * (R_BC * C_r_RP2)))\n",
        "\n",
        "# Computing A_v_AP3\n",
        "A_v_AP3 = sp.simplify(\n",
        "    A_w_AB.cross(A_r_OP3)\n",
        "    + A_w_BC.cross(R_AB * (R_BC * C_r_RP3))\n",
        "    + R_AB * (R_BC * (dr3 * Matrix([[0], [1], [0]])))\n",
        ")"
      ],
      "metadata": {
        "id": "R4lY9JGpSNeY"
      },
      "id": "R4lY9JGpSNeY",
      "execution_count": 12,
      "outputs": []
    },
    {
      "cell_type": "markdown",
      "id": "flush-replacement",
      "metadata": {
        "id": "flush-replacement"
      },
      "source": [
        "Third, we express the angular velocities of each link in convenient frames for the energy calculation."
      ]
    },
    {
      "cell_type": "code",
      "execution_count": 13,
      "id": "national-magic",
      "metadata": {
        "id": "national-magic"
      },
      "outputs": [],
      "source": [
        "# Compute these directly from the frames of interest\n",
        "\n",
        "# Angular velocity of link 1 in frame B\n",
        "B_w_AB = R_AB.transpose() * A_w_AB  # Note: B_w_AB = A_w_AB\n",
        "\n",
        "# Angular velocity of link 2, 3 in frame C\n",
        "C_w_BC = (R_AB * R_BC).transpose() * A_w_BC\n",
        "C_w_AC = (R_AB * R_BC).transpose() * A_w_AC\n",
        "\n",
        "# The angular velocities of links 2 and 3 are identical as they only\n",
        "# translate wrt each other."
      ]
    },
    {
      "cell_type": "markdown",
      "id": "cleared-logic",
      "metadata": {
        "id": "cleared-logic"
      },
      "source": [
        "Fourth, we compute the inertia tensors of each link. Following the integration procedure here: https://scienceworld.wolfram.com/physics/MomentofInertiaCylinder.html, we know that the inertia tensor of a solid cylinder is"
      ]
    },
    {
      "cell_type": "code",
      "execution_count": 14,
      "id": "binding-aurora",
      "metadata": {
        "id": "binding-aurora"
      },
      "outputs": [],
      "source": [
        "def Ic_cylinder(R, H, rho):\n",
        "    Ic = (np.pi * rho * R ** 2 * H) * Matrix([\n",
        "        [(H ** 2) / 12 + (R ** 2) / 4, 0, 0],\n",
        "        [0, (H ** 2) / 12 + (R ** 2) / 4, 0],\n",
        "        [0, 0, (R ** 2) / 2],\n",
        "    ])\n",
        "    return Ic\n",
        "\n",
        "def inertia_particle(p1, p2):\n",
        "    x = p1[0] - p2[0]\n",
        "    y = p1[1] - p2[1]\n",
        "    z = p1[2] - p2[2]\n",
        "    I = Matrix([\n",
        "        [y ** 2 + z ** 2, -x * y, -x * z],\n",
        "        [-x * y, x ** 2 + z ** 2, -y * z],\n",
        "        [-x * z, -y * z, x ** 2 + y ** 2],\n",
        "    ])\n",
        "    return I"
      ]
    },
    {
      "cell_type": "code",
      "execution_count": 15,
      "id": "thermal-keyboard",
      "metadata": {
        "id": "thermal-keyboard"
      },
      "outputs": [],
      "source": [
        "# Inertia of link 1 about its center of mass in SRT B\n",
        "I_hrz = Ic_cylinder(R1h, H1h, rho)  # Inertia of horizontal segment expressed in a frame with horizontal z axis\n",
        "I_vert = Ic_cylinder(R1v, H1v, rho)  # Inertia of vertical segment expressed in a frame with vertical z axis\n",
        "\n",
        "# Due to axial symmetry, x and y axes are non-unique;\n",
        "# any rotation about z doesn't change the inertia tensor.\n",
        "rot_perp = rot_x(np.pi / 2)  # Rotation of pi/2 about x\n",
        "I_hrz_rot = rot_perp * I_hrz * rot_perp.transpose()\n",
        "\n",
        "# Shifting theorem to get inertia tensors of both parts about mass center of link 1 in frame B\n",
        "I_hrz_cen = I_hrz_rot + mh * inertia_particle(loch.subs(th1, 0), A_r_OP1.subs(th1, 0))  # Inertia of horizontal segment about mass center of link 1\n",
        "I_vert_cen = I_vert + mv * inertia_particle(locv.subs(th1, 0), A_r_OP1.subs(th1, 0))  # Inertia of vertical segment about mass center of link 1\n",
        "B_I1 = I_hrz_cen + I_vert_cen\n",
        "\n",
        "# inertia of link 2 about its center of mass in frame C: this time for the external and internal, point of reference and frame are both already same in the formula\n",
        "C_I2 = rot_perp.transpose() * (Ic_cylinder(R2e, H2, rho) - Ic_cylinder(R2i, H2, rho)) * rot_perp  # Originally the z axis was along c2, so we rotate about c1 by -pi/2\n",
        "\n",
        "# Inertia of link 3 about its center of mass in frame C\n",
        "C_I3 = rot_perp.transpose() * (Ic_cylinder(R3, H3, rho)) * rot_perp"
      ]
    },
    {
      "cell_type": "markdown",
      "id": "secondary-jacket",
      "metadata": {
        "id": "secondary-jacket"
      },
      "source": [
        "Finally, we compute the total kinetic energy of the system.\n",
        "\n",
        "Note that inertias and angular velocities can be expressed in any SRT, but the inertia tensor for any particular link and its angular velocity have to expressed in the same SRT for the energy term to make sense."
      ]
    },
    {
      "cell_type": "code",
      "execution_count": 16,
      "id": "cognitive-manitoba",
      "metadata": {
        "id": "cognitive-manitoba",
        "outputId": "809bbc6a-7cf7-428a-c614-fba6d3e014a2",
        "colab": {
          "base_uri": "https://localhost:8080/",
          "height": 82
        }
      },
      "outputs": [
        {
          "output_type": "execute_result",
          "data": {
            "text/plain": [
              "                                2   2    2                                    \n",
              "0.0320736974977433⋅\\dot{\\theta}₁ ⋅r₃ ⋅cos (\\theta₂) - 0.00801842437443582⋅\\dot\n",
              "\n",
              "         2       2                                           2                \n",
              "{\\theta}₁ ⋅r₃⋅cos (\\theta₂) + 0.019244218498646⋅\\dot{\\theta}₁ ⋅r₃⋅cos(\\theta₂)\n",
              "\n",
              "                                    2    2                                    \n",
              " + 0.00229038671439205⋅\\dot{\\theta}₁ ⋅cos (\\theta₂) + 0.00618280160442035⋅\\dot\n",
              "\n",
              "         2                                                2                   \n",
              "{\\theta}₁ ⋅cos(\\theta₂) + 0.0250685493866295⋅\\dot{\\theta}₁  + 0.03207369749774\n",
              "\n",
              "                2   2                                    2                    \n",
              "33⋅\\dot{\\theta}₂ ⋅r₃  - 0.00801842437443582⋅\\dot{\\theta}₂ ⋅r₃ + 0.003059244507\n",
              "\n",
              "                   2                              2\n",
              "21011⋅\\dot{\\theta}₂  + 0.0320736974977433⋅\\dot{r}₃ "
            ],
            "text/latex": "$\\displaystyle 0.0320736974977433 \\dot{\\theta}_1^{2} r_{3}^{2} \\cos^{2}{\\left(\\theta_{2} \\right)} - 0.00801842437443582 \\dot{\\theta}_1^{2} r_{3} \\cos^{2}{\\left(\\theta_{2} \\right)} + 0.019244218498646 \\dot{\\theta}_1^{2} r_{3} \\cos{\\left(\\theta_{2} \\right)} + 0.00229038671439205 \\dot{\\theta}_1^{2} \\cos^{2}{\\left(\\theta_{2} \\right)} + 0.00618280160442035 \\dot{\\theta}_1^{2} \\cos{\\left(\\theta_{2} \\right)} + 0.0250685493866295 \\dot{\\theta}_1^{2} + 0.0320736974977433 \\dot{\\theta}_2^{2} r_{3}^{2} - 0.00801842437443582 \\dot{\\theta}_2^{2} r_{3} + 0.00305924450721011 \\dot{\\theta}_2^{2} + 0.0320736974977433 \\dot{r}_3^{2}$"
          },
          "metadata": {},
          "execution_count": 16
        }
      ],
      "source": [
        "T_mat_form = (1 / 2) * (\n",
        "    m1 * A_v_AP1.transpose() * A_v_AP1\n",
        "    + m2 * A_v_AP2.transpose() * A_v_AP2\n",
        "    + m3 * A_v_AP3.transpose() * A_v_AP3\n",
        "    + B_w_AB.transpose() * B_I1 * B_w_AB\n",
        "    + C_w_BC.transpose() * (C_I2 + C_I3) * C_w_BC\n",
        ")\n",
        "T = sp.simplify(T_mat_form[0])\n",
        "T"
      ]
    },
    {
      "cell_type": "markdown",
      "id": "occupational-frederick",
      "metadata": {
        "id": "occupational-frederick"
      },
      "source": [
        "## HW4 solution code"
      ]
    },
    {
      "cell_type": "markdown",
      "source": [
        "You can use the example inverse dynamics code provided with the question to help with this section. **Be sure to print all the expressions and numbers requested in the question**."
      ],
      "metadata": {
        "id": "zByLwR1OZ7lJ"
      },
      "id": "zByLwR1OZ7lJ"
    },
    {
      "cell_type": "markdown",
      "source": [
        "### 1.a. Potential energy"
      ],
      "metadata": {
        "id": "fMAbd_MFYu4Y"
      },
      "id": "fMAbd_MFYu4Y"
    },
    {
      "cell_type": "code",
      "source": [
        "g = 9.81  # Acceleration due to gravity, [m/s^2]\n",
        "\n",
        "# Potential energy\n",
        "V = m1 * g * A_r_OP1[2] + m2 * g * A_r_OP2[2] + m3 * g * A_r_OP3[2]\n",
        "V"
      ],
      "metadata": {
        "id": "1PuiYCAgY1La",
        "colab": {
          "base_uri": "https://localhost:8080/",
          "height": 38
        },
        "outputId": "3a2446f6-ceae-4b61-cf52-d3846fbcc67b"
      },
      "id": "1PuiYCAgY1La",
      "execution_count": 19,
      "outputs": [
        {
          "output_type": "execute_result",
          "data": {
            "text/plain": [
              "0.629285944905723⋅(r₃ - 0.125)⋅sin(\\theta₂) + 0.280838355577761⋅sin(\\theta₂) +\n",
              " 2.32505554511799"
            ],
            "text/latex": "$\\displaystyle 0.629285944905723 \\left(r_{3} - 0.125\\right) \\sin{\\left(\\theta_{2} \\right)} + 0.280838355577761 \\sin{\\left(\\theta_{2} \\right)} + 2.32505554511799$"
          },
          "metadata": {},
          "execution_count": 19
        }
      ]
    },
    {
      "cell_type": "markdown",
      "source": [
        "### 1.b. Lagrangian"
      ],
      "metadata": {
        "id": "3cj7CffGY4k3"
      },
      "id": "3cj7CffGY4k3"
    },
    {
      "cell_type": "code",
      "source": [
        "# Lagrangian\n",
        "L = T - V\n",
        "L"
      ],
      "metadata": {
        "id": "a3UztanLY9KC",
        "colab": {
          "base_uri": "https://localhost:8080/",
          "height": 103
        },
        "outputId": "c5174c24-19a2-41f0-d17c-d3ff8d536f81"
      },
      "id": "a3UztanLY9KC",
      "execution_count": 21,
      "outputs": [
        {
          "output_type": "execute_result",
          "data": {
            "text/plain": [
              "                                2   2    2                                    \n",
              "0.0320736974977433⋅\\dot{\\theta}₁ ⋅r₃ ⋅cos (\\theta₂) - 0.00801842437443582⋅\\dot\n",
              "\n",
              "         2       2                                           2                \n",
              "{\\theta}₁ ⋅r₃⋅cos (\\theta₂) + 0.019244218498646⋅\\dot{\\theta}₁ ⋅r₃⋅cos(\\theta₂)\n",
              "\n",
              "                                    2    2                                    \n",
              " + 0.00229038671439205⋅\\dot{\\theta}₁ ⋅cos (\\theta₂) + 0.00618280160442035⋅\\dot\n",
              "\n",
              "         2                                                2                   \n",
              "{\\theta}₁ ⋅cos(\\theta₂) + 0.0250685493866295⋅\\dot{\\theta}₁  + 0.03207369749774\n",
              "\n",
              "                2   2                                    2                    \n",
              "33⋅\\dot{\\theta}₂ ⋅r₃  - 0.00801842437443582⋅\\dot{\\theta}₂ ⋅r₃ + 0.003059244507\n",
              "\n",
              "                   2                              2                           \n",
              "21011⋅\\dot{\\theta}₂  + 0.0320736974977433⋅\\dot{r}₃  - 0.629285944905723⋅(r₃ - \n",
              "\n",
              "                                                                       \n",
              "0.125)⋅sin(\\theta₂) - 0.280838355577761⋅sin(\\theta₂) - 2.32505554511799"
            ],
            "text/latex": "$\\displaystyle 0.0320736974977433 \\dot{\\theta}_1^{2} r_{3}^{2} \\cos^{2}{\\left(\\theta_{2} \\right)} - 0.00801842437443582 \\dot{\\theta}_1^{2} r_{3} \\cos^{2}{\\left(\\theta_{2} \\right)} + 0.019244218498646 \\dot{\\theta}_1^{2} r_{3} \\cos{\\left(\\theta_{2} \\right)} + 0.00229038671439205 \\dot{\\theta}_1^{2} \\cos^{2}{\\left(\\theta_{2} \\right)} + 0.00618280160442035 \\dot{\\theta}_1^{2} \\cos{\\left(\\theta_{2} \\right)} + 0.0250685493866295 \\dot{\\theta}_1^{2} + 0.0320736974977433 \\dot{\\theta}_2^{2} r_{3}^{2} - 0.00801842437443582 \\dot{\\theta}_2^{2} r_{3} + 0.00305924450721011 \\dot{\\theta}_2^{2} + 0.0320736974977433 \\dot{r}_3^{2} - 0.629285944905723 \\left(r_{3} - 0.125\\right) \\sin{\\left(\\theta_{2} \\right)} - 0.280838355577761 \\sin{\\left(\\theta_{2} \\right)} - 2.32505554511799$"
          },
          "metadata": {},
          "execution_count": 21
        }
      ]
    },
    {
      "cell_type": "markdown",
      "source": [
        "### 2. Equations of motion"
      ],
      "metadata": {
        "id": "z_7HIa0EY9wi"
      },
      "id": "z_7HIa0EY9wi"
    },
    {
      "cell_type": "code",
      "source": [
        "# Introduce time as a variable\n",
        "\n",
        "t = symbols('t')\n",
        "q1 = Function('q1')(t)  # Position\n",
        "dq1 = Function('dq1')(t)  # Velocity\n",
        "ddq1 = Function('ddq1')(t)  # Acceleration\n",
        "q2 = Function('q2')(t)  # Position\n",
        "dq2 = Function('dq2')(t)  # Velocity\n",
        "ddq2 = Function('ddq2')(t)  # Acceleration\n",
        "q3 = Function('q3')(t)  # Position\n",
        "dq3 = Function('dq3')(t)  # Velocity\n",
        "ddq3 = Function('ddq3')(t)  # Acceleration\n",
        "\n",
        "Lag = L.subs([(th1, q1), (dth1, dq1), (th2, q2), (dth2, dq2), (r3, q3), (dr3, dq3)])\n",
        "\n",
        "def derive_eom(Lag, q, dq, ddq):\n",
        "    # Derive the Lagrangian EOMs left hand side; this equals the external non-conservative force.\n",
        "    eq0 = (diff(diff(Lag, dq), t) - diff(Lag, q))\n",
        "    eq  = eq0.subs([(diff(dq1, t), ddq1), (diff(q2, t), dq2), (diff(dq2, t), ddq2),\n",
        "                    (diff(q3, t), dq3), (diff(dq3, t), ddq3)])\n",
        "    return eq\n",
        "\n",
        "eq1 = derive_eom(Lag, q1, dq1, ddq1)\n",
        "eq2 = derive_eom(Lag, q2, dq2, ddq2)\n",
        "eq3 = derive_eom(Lag, q3, dq3, ddq3)\n",
        "\n",
        "eq = Matrix([[eq1], [eq2], [eq3]])"
      ],
      "metadata": {
        "id": "RvXczEjIZXwf"
      },
      "id": "RvXczEjIZXwf",
      "execution_count": 22,
      "outputs": []
    },
    {
      "cell_type": "markdown",
      "source": [
        "### 3. Numerical implementation"
      ],
      "metadata": {
        "id": "NDAzyA9VZYJB"
      },
      "id": "NDAzyA9VZYJB"
    },
    {
      "cell_type": "code",
      "source": [
        "# Numerical implementation of LHS as a fn of generalized coordinates, speeds, accelerations\n",
        "tau1_func = sp.lambdify((q1, q2, q3, dq1, dq2, dq3, ddq1, ddq2, ddq3), eq[0])\n",
        "tau2_func = sp.lambdify((q1, q2, q3, dq1, dq2, dq3, ddq1, ddq2, ddq3), eq[1])\n",
        "f3_func = sp.lambdify((q1, q2, q3, dq1, dq2, dq3, ddq1, ddq2, ddq3), eq[2])\n",
        "\n",
        "t_vals = np.linspace(0,10,1000) # Discretize the time interval into 100 intervals\n",
        "\n",
        "dq1_des, ddq1_des, dq2_des, ddq2_des, dq3_des, ddq3_des = symbols('dq1_des ddq1_des dq2_des ddq2_des dq3_des ddq3_des')\n",
        "\n",
        "q1_des = -sqrt(2)*sin(2*t+np.pi/7)  # Desired position\n",
        "q2_des = sqrt(3)*cos(3*t/10)\n",
        "q3_des = (sqrt(5)*sin(t)+sqrt(11))/1000\n",
        "\n",
        "dq1_des = diff(q1_des, t)  # Desired velocity\n",
        "dq2_des = diff(q2_des, t)\n",
        "dq3_des = diff(q3_des, t)\n",
        "\n",
        "ddq1_des = diff(dq1_des, t)  # Desired acceleration\n",
        "ddq2_des = diff(dq2_des, t)\n",
        "ddq3_des = diff(dq3_des, t)\n",
        "\n",
        "Matrix([[q1_des, dq1_des, ddq1_des],\n",
        "[q2_des, dq2_des, ddq2_des],\n",
        "[q3_des, dq3_des, ddq3_des]])"
      ],
      "metadata": {
        "id": "9loz0_YFZckc",
        "colab": {
          "base_uri": "https://localhost:8080/",
          "height": 92
        },
        "outputId": "b647a489-1184-44ae-8451-6dfd58e0e606"
      },
      "id": "9loz0_YFZckc",
      "execution_count": 24,
      "outputs": [
        {
          "output_type": "execute_result",
          "data": {
            "text/plain": [
              "⎡-√2⋅sin(2⋅t + 0.448798950512828)  -2⋅√2⋅cos(2⋅t + 0.448798950512828)  4⋅√2⋅si\n",
              "⎢                                                                             \n",
              "⎢                                                    ⎛3⋅t⎞                    \n",
              "⎢                                           -3⋅√3⋅sin⎜───⎟                    \n",
              "⎢                ⎛3⋅t⎞                               ⎝ 10⎠                    \n",
              "⎢          √3⋅cos⎜───⎟                      ───────────────                   \n",
              "⎢                ⎝ 10⎠                             10                         \n",
              "⎢                                                                             \n",
              "⎢        √5⋅sin(t)   √11                       √5⋅cos(t)                      \n",
              "⎢        ───────── + ────                      ─────────                      \n",
              "⎣           1000     1000                         1000                        \n",
              "\n",
              "n(2⋅t + 0.448798950512828)⎤\n",
              "                          ⎥\n",
              "           ⎛3⋅t⎞          ⎥\n",
              "  -9⋅√3⋅cos⎜───⎟          ⎥\n",
              "           ⎝ 10⎠          ⎥\n",
              "  ───────────────         ⎥\n",
              "        100               ⎥\n",
              "                          ⎥\n",
              "    -√5⋅sin(t)            ⎥\n",
              "    ───────────           ⎥\n",
              "        1000              ⎦"
            ],
            "text/latex": "$\\displaystyle \\left[\\begin{matrix}- \\sqrt{2} \\sin{\\left(2 t + 0.448798950512828 \\right)} & - 2 \\sqrt{2} \\cos{\\left(2 t + 0.448798950512828 \\right)} & 4 \\sqrt{2} \\sin{\\left(2 t + 0.448798950512828 \\right)}\\\\\\sqrt{3} \\cos{\\left(\\frac{3 t}{10} \\right)} & - \\frac{3 \\sqrt{3} \\sin{\\left(\\frac{3 t}{10} \\right)}}{10} & - \\frac{9 \\sqrt{3} \\cos{\\left(\\frac{3 t}{10} \\right)}}{100}\\\\\\frac{\\sqrt{5} \\sin{\\left(t \\right)}}{1000} + \\frac{\\sqrt{11}}{1000} & \\frac{\\sqrt{5} \\cos{\\left(t \\right)}}{1000} & - \\frac{\\sqrt{5} \\sin{\\left(t \\right)}}{1000}\\end{matrix}\\right]$"
          },
          "metadata": {},
          "execution_count": 24
        }
      ]
    },
    {
      "cell_type": "markdown",
      "source": [
        "### 4. Force plots"
      ],
      "metadata": {
        "id": "qNdUnqQsZc3t"
      },
      "id": "qNdUnqQsZc3t"
    },
    {
      "cell_type": "code",
      "source": [
        "# Position values at time instants\n",
        "q1_func = sp.lambdify(t, q1_des)\n",
        "q1_vals = q1_func(t_vals)\n",
        "q2_func = sp.lambdify(t, q2_des)\n",
        "q2_vals = q2_func(t_vals)\n",
        "q3_func = sp.lambdify(t, q3_des)\n",
        "q3_vals = q3_func(t_vals)\n",
        "\n",
        "# Velocity values at time instants\n",
        "dq1_func = sp.lambdify(t, dq1_des)\n",
        "dq1_vals = dq1_func(t_vals)\n",
        "dq2_func = sp.lambdify(t, dq2_des)\n",
        "dq2_vals = dq2_func(t_vals)\n",
        "dq3_func = sp.lambdify(t, dq3_des)\n",
        "dq3_vals = dq3_func(t_vals)\n",
        "\n",
        "# Acceleration values at time instants\n",
        "ddq1_func = sp.lambdify(t, ddq1_des)\n",
        "ddq1_vals = ddq1_func(t_vals)\n",
        "ddq2_func = sp.lambdify(t, ddq2_des)\n",
        "ddq2_vals = ddq2_func(t_vals)\n",
        "ddq3_func = sp.lambdify(t, ddq3_des)\n",
        "ddq3_vals = ddq3_func(t_vals)\n",
        "\n",
        "\n",
        "fig = plt.figure()\n",
        "ax = fig.add_subplot(111, autoscale_on=True) # Used to strictly set bounds\n",
        "ax.grid()\n",
        "ax.plot(t_vals,q1_vals,'r',label='$\\\\theta_1(t)~in~rad$')\n",
        "ax.plot(t_vals,q2_vals,'g',label='$\\\\theta_2(t)~in~rad$')\n",
        "ax.plot(t_vals,1000*q3_vals,'b',label='$r3(t)~in~mm$')\n",
        "ax.legend()\n",
        "\n",
        "plt.show()"
      ],
      "metadata": {
        "id": "OoVZwA4vZpmb",
        "colab": {
          "base_uri": "https://localhost:8080/",
          "height": 430
        },
        "outputId": "40a12f18-be74-420a-ff7c-696f1fc860dd"
      },
      "id": "OoVZwA4vZpmb",
      "execution_count": 25,
      "outputs": [
        {
          "output_type": "display_data",
          "data": {
            "text/plain": [
              "<Figure size 640x480 with 1 Axes>"
            ],
            "image/png": "[encoded data removed]"
          },
          "metadata": {}
        }
      ]
    },
    {
      "cell_type": "code",
      "source": [
        "# Generalized forces\n",
        "tau1_vals = tau1_func(q1_vals, q2_vals, q3_vals, dq1_vals, dq2_vals, dq3_vals, ddq1_vals, ddq2_vals, ddq3_vals)  # Force values at time instants\n",
        "tau2_vals = tau2_func(q1_vals, q2_vals, q3_vals, dq1_vals, dq2_vals, dq3_vals, ddq1_vals, ddq2_vals, ddq3_vals)\n",
        "f3_vals = f3_func(q1_vals, q2_vals, q3_vals, dq1_vals, dq2_vals, dq3_vals, ddq1_vals, ddq2_vals, ddq3_vals)"
      ],
      "metadata": {
        "id": "QT9y86imULpa"
      },
      "id": "QT9y86imULpa",
      "execution_count": 27,
      "outputs": []
    },
    {
      "cell_type": "code",
      "source": [
        "fig = plt.figure()\n",
        "ax = fig.add_subplot(111, autoscale_on=True)  # Used to strictly set bounds\n",
        "ax.grid()\n",
        "ax.plot(t_vals, tau1_vals,'r',label='$\\\\tau_1(t)$')\n",
        "ax.plot(t_vals, tau2_vals,'r',label='$\\\\tau_2(t)$')\n",
        "ax.plot(t_vals, f3_vals,'r',label='$f_3(t)$')\n",
        "ax.legend()\n",
        "\n",
        "plt.show()"
      ],
      "metadata": {
        "colab": {
          "base_uri": "https://localhost:8080/",
          "height": 430
        },
        "id": "uqUGGCC3UQz9",
        "outputId": "2e49b082-9a7d-4ce3-b94f-28a2b616fb2b"
      },
      "id": "uqUGGCC3UQz9",
      "execution_count": 28,
      "outputs": [
        {
          "output_type": "display_data",
          "data": {
            "text/plain": [
              "<Figure size 640x480 with 1 Axes>"
            ],
            "image/png": "[encoded data removed]"
          },
          "metadata": {}
        }
      ]
    },
    {
      "cell_type": "markdown",
      "source": [
        "### 5. Energy conservation check"
      ],
      "metadata": {
        "id": "6JQvkURzZq8z"
      },
      "id": "6JQvkURzZq8z"
    },
    {
      "cell_type": "code",
      "source": [
        "# Rewrite energy explicitly as function of time\n",
        "E = (T+V).subs([(th1, q1), (dth1, dq1), (th2, q2), (dth2, dq2), (r3, q3), (dr3, dq3)])\n",
        "\n",
        "# Rate of change of total energy written in terms of q, dq, ddq\n",
        "dE = diff(E, t).subs([(diff(dq1, t), ddq1), (diff(q2, t), dq2), (diff(dq2, t), ddq2), (diff(q3, t), dq3), (diff(dq3, t), ddq3)])\n",
        "dE"
      ],
      "metadata": {
        "id": "-3Ta9OkoZ23J",
        "colab": {
          "base_uri": "https://localhost:8080/",
          "height": 231
        },
        "outputId": "68755ac5-d69c-4212-becd-4ae103eaec3d"
      },
      "id": "-3Ta9OkoZ23J",
      "execution_count": 29,
      "outputs": [
        {
          "output_type": "execute_result",
          "data": {
            "text/plain": [
              "                                                                              \n",
              "0.629285944905723⋅(q₃(t) - 0.125)⋅dq₂(t)⋅cos(q₂(t)) + 0.0641473949954866⋅ddq₁(\n",
              "\n",
              "            2       2                                                     2   \n",
              "t)⋅dq₁(t)⋅q₃ (t)⋅cos (q₂(t)) - 0.0160368487488716⋅ddq₁(t)⋅dq₁(t)⋅q₃(t)⋅cos (q₂\n",
              "\n",
              "                                                                              \n",
              "(t)) + 0.0384884369972919⋅ddq₁(t)⋅dq₁(t)⋅q₃(t)⋅cos(q₂(t)) + 0.0045807734287841\n",
              "\n",
              "                   2                                                          \n",
              "⋅ddq₁(t)⋅dq₁(t)⋅cos (q₂(t)) + 0.0123656032088407⋅ddq₁(t)⋅dq₁(t)⋅cos(q₂(t)) + 0\n",
              "\n",
              "                                                                      2       \n",
              ".050137098773259⋅ddq₁(t)⋅dq₁(t) + 0.0641473949954866⋅ddq₂(t)⋅dq₂(t)⋅q₃ (t) - 0\n",
              "\n",
              "                                                                              \n",
              ".0160368487488716⋅ddq₂(t)⋅dq₂(t)⋅q₃(t) + 0.00611848901442022⋅ddq₂(t)⋅dq₂(t) + \n",
              "\n",
              "                                                          2             2     \n",
              "0.0641473949954866⋅ddq₃(t)⋅dq₃(t) - 0.0641473949954866⋅dq₁ (t)⋅dq₂(t)⋅q₃ (t)⋅s\n",
              "\n",
              "                                             2                                \n",
              "in(q₂(t))⋅cos(q₂(t)) + 0.0160368487488716⋅dq₁ (t)⋅dq₂(t)⋅q₃(t)⋅sin(q₂(t))⋅cos(\n",
              "\n",
              "                              2                                               \n",
              "q₂(t)) - 0.019244218498646⋅dq₁ (t)⋅dq₂(t)⋅q₃(t)⋅sin(q₂(t)) - 0.004580773428784\n",
              "\n",
              "     2                                                          2             \n",
              "1⋅dq₁ (t)⋅dq₂(t)⋅sin(q₂(t))⋅cos(q₂(t)) - 0.00618280160442035⋅dq₁ (t)⋅dq₂(t)⋅si\n",
              "\n",
              "                                 2                    2                       \n",
              "n(q₂(t)) + 0.0641473949954866⋅dq₁ (t)⋅dq₃(t)⋅q₃(t)⋅cos (q₂(t)) - 0.00801842437\n",
              "\n",
              "          2              2                               2                    \n",
              "443582⋅dq₁ (t)⋅dq₃(t)⋅cos (q₂(t)) + 0.019244218498646⋅dq₁ (t)⋅dq₃(t)⋅cos(q₂(t)\n",
              "\n",
              "                          2                                          2        \n",
              ") + 0.0641473949954866⋅dq₂ (t)⋅dq₃(t)⋅q₃(t) - 0.00801842437443582⋅dq₂ (t)⋅dq₃(\n",
              "\n",
              "                                                                              \n",
              "t) + 0.280838355577761⋅dq₂(t)⋅cos(q₂(t)) + 0.629285944905723⋅dq₃(t)⋅sin(q₂(t))"
            ],
            "text/latex": "$\\displaystyle 0.629285944905723 \\left(q_{3}{\\left(t \\right)} - 0.125\\right) \\operatorname{dq}_{2}{\\left(t \\right)} \\cos{\\left(q_{2}{\\left(t \\right)} \\right)} + 0.0641473949954866 \\operatorname{ddq}_{1}{\\left(t \\right)} \\operatorname{dq}_{1}{\\left(t \\right)} q_{3}^{2}{\\left(t \\right)} \\cos^{2}{\\left(q_{2}{\\left(t \\right)} \\right)} - 0.0160368487488716 \\operatorname{ddq}_{1}{\\left(t \\right)} \\operatorname{dq}_{1}{\\left(t \\right)} q_{3}{\\left(t \\right)} \\cos^{2}{\\left(q_{2}{\\left(t \\right)} \\right)} + 0.0384884369972919 \\operatorname{ddq}_{1}{\\left(t \\right)} \\operatorname{dq}_{1}{\\left(t \\right)} q_{3}{\\left(t \\right)} \\cos{\\left(q_{2}{\\left(t \\right)} \\right)} + 0.0045807734287841 \\operatorname{ddq}_{1}{\\left(t \\right)} \\operatorname{dq}_{1}{\\left(t \\right)} \\cos^{2}{\\left(q_{2}{\\left(t \\right)} \\right)} + 0.0123656032088407 \\operatorname{ddq}_{1}{\\left(t \\right)} \\operatorname{dq}_{1}{\\left(t \\right)} \\cos{\\left(q_{2}{\\left(t \\right)} \\right)} + 0.050137098773259 \\operatorname{ddq}_{1}{\\left(t \\right)} \\operatorname{dq}_{1}{\\left(t \\right)} + 0.0641473949954866 \\operatorname{ddq}_{2}{\\left(t \\right)} \\operatorname{dq}_{2}{\\left(t \\right)} q_{3}^{2}{\\left(t \\right)} - 0.0160368487488716 \\operatorname{ddq}_{2}{\\left(t \\right)} \\operatorname{dq}_{2}{\\left(t \\right)} q_{3}{\\left(t \\right)} + 0.00611848901442022 \\operatorname{ddq}_{2}{\\left(t \\right)} \\operatorname{dq}_{2}{\\left(t \\right)} + 0.0641473949954866 \\operatorname{ddq}_{3}{\\left(t \\right)} \\operatorname{dq}_{3}{\\left(t \\right)} - 0.0641473949954866 \\operatorname{dq}_{1}^{2}{\\left(t \\right)} \\operatorname{dq}_{2}{\\left(t \\right)} q_{3}^{2}{\\left(t \\right)} \\sin{\\left(q_{2}{\\left(t \\right)} \\right)} \\cos{\\left(q_{2}{\\left(t \\right)} \\right)} + 0.0160368487488716 \\operatorname{dq}_{1}^{2}{\\left(t \\right)} \\operatorname{dq}_{2}{\\left(t \\right)} q_{3}{\\left(t \\right)} \\sin{\\left(q_{2}{\\left(t \\right)} \\right)} \\cos{\\left(q_{2}{\\left(t \\right)} \\right)} - 0.019244218498646 \\operatorname{dq}_{1}^{2}{\\left(t \\right)} \\operatorname{dq}_{2}{\\left(t \\right)} q_{3}{\\left(t \\right)} \\sin{\\left(q_{2}{\\left(t \\right)} \\right)} - 0.0045807734287841 \\operatorname{dq}_{1}^{2}{\\left(t \\right)} \\operatorname{dq}_{2}{\\left(t \\right)} \\sin{\\left(q_{2}{\\left(t \\right)} \\right)} \\cos{\\left(q_{2}{\\left(t \\right)} \\right)} - 0.00618280160442035 \\operatorname{dq}_{1}^{2}{\\left(t \\right)} \\operatorname{dq}_{2}{\\left(t \\right)} \\sin{\\left(q_{2}{\\left(t \\right)} \\right)} + 0.0641473949954866 \\operatorname{dq}_{1}^{2}{\\left(t \\right)} \\operatorname{dq}_{3}{\\left(t \\right)} q_{3}{\\left(t \\right)} \\cos^{2}{\\left(q_{2}{\\left(t \\right)} \\right)} - 0.00801842437443582 \\operatorname{dq}_{1}^{2}{\\left(t \\right)} \\operatorname{dq}_{3}{\\left(t \\right)} \\cos^{2}{\\left(q_{2}{\\left(t \\right)} \\right)} + 0.019244218498646 \\operatorname{dq}_{1}^{2}{\\left(t \\right)} \\operatorname{dq}_{3}{\\left(t \\right)} \\cos{\\left(q_{2}{\\left(t \\right)} \\right)} + 0.0641473949954866 \\operatorname{dq}_{2}^{2}{\\left(t \\right)} \\operatorname{dq}_{3}{\\left(t \\right)} q_{3}{\\left(t \\right)} - 0.00801842437443582 \\operatorname{dq}_{2}^{2}{\\left(t \\right)} \\operatorname{dq}_{3}{\\left(t \\right)} + 0.280838355577761 \\operatorname{dq}_{2}{\\left(t \\right)} \\cos{\\left(q_{2}{\\left(t \\right)} \\right)} + 0.629285944905723 \\operatorname{dq}_{3}{\\left(t \\right)} \\sin{\\left(q_{2}{\\left(t \\right)} \\right)}$"
          },
          "metadata": {},
          "execution_count": 29
        }
      ]
    },
    {
      "cell_type": "code",
      "source": [
        "# Numerical implementation to calculate rate of change of energy as fn of y, vy, ay\n",
        "dE_func = sp.lambdify((q1, q2, q3, dq1, dq2, dq3, ddq1, ddq2, ddq3), dE)\n",
        "dE_vals = dE_func(q1_vals, q2_vals, q3_vals, dq1_vals, dq2_vals, dq3_vals, ddq1_vals, ddq2_vals, ddq3_vals)\n",
        "\n",
        "# Power delivered minus energy\n",
        "power_vals = tau1_vals*dq1_vals +tau2_vals*dq2_vals +f3_vals*dq3_vals - dE_vals"
      ],
      "metadata": {
        "id": "bxVr2bhrUX2N"
      },
      "id": "bxVr2bhrUX2N",
      "execution_count": 31,
      "outputs": []
    },
    {
      "cell_type": "code",
      "source": [
        "### Energy conservation check\n",
        "\n",
        "fig = plt.figure()\n",
        "ax = fig.add_subplot(111, autoscale_on=True)\n",
        "ax.grid()\n",
        "ax.plot(t_vals,power_vals,'r',label='$\\\\dot{E}_{system}$')\n",
        "ax.legend()\n",
        "\n",
        "plt.show()"
      ],
      "metadata": {
        "colab": {
          "base_uri": "https://localhost:8080/",
          "height": 445
        },
        "id": "hC9kK66aUXv_",
        "outputId": "ab3472db-f8de-42ca-f476-a70323b7963e"
      },
      "id": "hC9kK66aUXv_",
      "execution_count": 32,
      "outputs": [
        {
          "output_type": "display_data",
          "data": {
            "text/plain": [
              "<Figure size 640x480 with 1 Axes>"
            ],
            "image/png": "[encoded data removed]"
          },
          "metadata": {}
        }
      ]
    }
  ],
  "metadata": {
    "kernelspec": {
      "display_name": "Python 3",
      "language": "python",
      "name": "python3"
    },
    "language_info": {
      "codemirror_mode": {
        "name": "ipython",
        "version": 3
      },
      "file_extension": ".py",
      "mimetype": "text/x-python",
      "name": "python",
      "nbconvert_exporter": "python",
      "pygments_lexer": "ipython3",
      "version": "3.6.9"
    },
    "colab": {
      "provenance": [],
      "include_colab_link": true
    }
  },
  "nbformat": 4,
  "nbformat_minor": 5
}