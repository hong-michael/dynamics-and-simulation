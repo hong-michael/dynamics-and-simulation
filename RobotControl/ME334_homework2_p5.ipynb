{
  "cells": [
    {
      "cell_type": "markdown",
      "metadata": {
        "id": "JPKMu-iDMpgD"
      },
      "source": [
        "# Homework 2 (Problem 5, 2pts)\n",
        "## ME 334: Advanced Dynamics, Control and System Identification\n",
        "### Stanford University"
      ]
    },
    {
      "cell_type": "markdown",
      "metadata": {
        "id": "PKZBdLB6MpgE"
      },
      "source": [
        "## Problem Statement (Non-Holonomic Robot Control)\n"
      ]
    },
    {
      "cell_type": "markdown",
      "metadata": {
        "id": "434O4T7wMpgF"
      },
      "source": [
        "![nonholonomicrobot_2.jpg](attachment:nonholonomicrobot_2.jpg)\n",
        "\n"
      ]
    },
    {
      "cell_type": "markdown",
      "metadata": {
        "id": "pDYwkdh7MpgF"
      },
      "source": [
        "### Kinematics\n",
        "\n",
        "Here we have a non-holonomic (meaning its linear velocity is restricted so that the forward velocity points along $\\hat{r}_{1}$). The position of reference frame $R$ is $^A{r}^R=x_R \\hat{\n",
        "a}_1 + y_R \\hat{a}_2$, its velocity $^A{v}^R = \\dot{x}_R \\hat{a}_1 + \\dot{y}_R \\hat{a}_2$ and must respect the non-integrable, knife-edge non-holonomic constraint meaning $^R{v}=v\\hat{r}_1 + 0 \\hat{r}_2 + 0\\hat{r}_3$ and for a constraint vector $^A\\lambda = -sin(\\theta)\\hat{a}_1 + cos(\\theta)\\hat{a}_2$, the nonholonomic constraint is written as:\n",
        "\n",
        "$$-sin(\\theta)\\dot{x}_R + cos(\\theta) \\dot{y}_R = 0$$\n",
        "\n",
        "For the rotation from frame $R$ to frame $A$, the rotation is about the axis $\\hat{a}_1$ through angle $\\theta$:\n",
        "\n",
        "$$ \\begin{bmatrix}\\hat{a}_1 \\\\ \\hat{a}_2 \\\\ \\hat{a}_3   \\end{bmatrix} = \\underbrace{\\begin{bmatrix} cos(\\theta) & -sin(\\theta) & 0 \\\\ sin(\\theta) & cos(\\theta) & 0 \\\\ 0 & 0 & 1 \\end{bmatrix}}_{^AR_R} \\begin{bmatrix} \\hat{r}_1 \\\\ \\hat{r}_2 \\\\ \\hat{r}_3 \\end{bmatrix} $$\n",
        "\n",
        "Due to the holonomic constraint, if a desired point $^A{r}^D(t)$ were to lie on the non-holonomic constraint vector $^A\\lambda$ then the immediate velocity of the robot could not move in that direction due to the constraint. One strategy would be to rotate in-place first until the $\\hat{r}_{1}$ axis were aligned with the target position. While this strategy would work well if the goal were static, if we take the case where the goal is on a circle with the robot at the center as was moving on the circle such that it stayed on the non-holonomic line as the robot rotated then the robot would simply rotate in place at the center of the circle.\n",
        "\n",
        "But if we consider this scenario, we intuitively know that the robot could apply a small forward velocity and essentially meet the desired point on the circle by following the path of the spiral until it reached the circle containing the desired point.\n",
        "\n",
        "*To achieve this, we must consider the control of a point that does not sit on the non-holonomic constraint line (as $R$ frame sits on the non-holonomic constraint line)*. Let's consider a point P (shown in the figure, fixed in frame $R$) that sits at $^Rr^P=L \\hat{r}_1 + 0 \\hat{r}_2 + 0 \\hat{r}_3$. This point in frame A is:\n",
        "\n",
        "$$^Ar^P = ^Ar^R + [^AR_R] ^Rr^P$$\n",
        "Differentiating we have:\n",
        "$$^A{\\dot{r}}^P = ^A{\\dot{r}}^R + [^A{\\dot{R}}_R] ^Rr^P + [^AR_R] ^R{\\dot{r}}^P$$\n",
        "we know by definition that $^R{\\dot{r}}^P=0$, and\n",
        "\n",
        "$$[^A{\\dot{R}}_R] = [^A \\omega ^R]^{[\\times]}[^AR_R]$$\n",
        "\n",
        "where $^A\\omega ^R = 0\\hat{a}_1 + 0 \\hat{a}_2 + \\dot{\\theta} \\hat{a}_3$. We also have that  $^A{\\dot{r}}^R = [^A R_R] ^R{v}$:\n",
        "$$^A{\\dot{r}}^R = ^A R_R \\begin{bmatrix} v\\hat{r}_1 \\\\ 0 \\hat{r}_2 \\\\ 0\\hat{r}_3  \\end{bmatrix}  $$\n",
        "\n",
        "Substituting these above we get a solution of the form\n",
        "$$^A{\\dot{r}}^P = [^A R_R] ^R{v} + [^A \\omega ^R]^{[\\times]}[^AR_R] ^Rr^P $$\n",
        "If we simplify this to only include the xy-position in the A frame (remove the z-component) we can simplify to:\n",
        "$$\\begin{bmatrix}\n",
        "^A{\\dot{r}}^P_x \\\\ ^A{\\dot{r}}^P_y\n",
        "\\end{bmatrix} = M_{2\\times 2} \\begin{bmatrix}\n",
        "v \\\\ \\dot{\\theta}\n",
        "\\end{bmatrix} $$\n",
        "\n",
        "This is the matrix you will show is full rank (non-zero determinant), and use for control of the xy-position in the next part:\n",
        "\n",
        "#### Functions\n",
        "1. you will make the function that returns the xy-position of point P: $^A{{r}}^P_{xy}$ in a $2\\times1$ numpy matrix (e.g. ```np.matrix([[2][4]]) = np.matrix([2,4]).T```) given $^A{{r}}^R_{xy}$, $L$ and $\\theta$:\n",
        "$$^A{{r}}^P_{xy} = f_1(^A{{r}}^R_{xy}, L,\\theta) $$\n",
        "2. You will make a function that calculate the above matrix $M$ ($2\\times 2$) given $L$, $\\theta$:\n",
        "$$ M_{2\\times 2} = f_2(L,\\theta)$$\n",
        "\n",
        "2D numpy matrix: ```np.matrix([[1,2],[3,4]]) ``` $=\\begin{bmatrix}1 & 2 \\\\ 3 & 4 \\end{bmatrix}$ (if you need to get the inverse at some point later: $M^{-1}$: ```M_inv = np.linalg.inv(M)```)\n",
        "\n",
        "### Control\n",
        "\n",
        "For control, you will be given a 2D xy-position point to track $^Ar^D_{xy}(t) = x_d(t) \\hat{a}_1 + y_d(t) \\hat{a}_2 $, the input to this function will also be the current state of the robot $^A{{r}}^R_{xy}(t)$ and angle $\\theta$. In this function you will want to\n",
        "- Obtain the point P: $^A{{r}}^P_{xy}(t)$ leveraging your earlier function and $^A{{r}}^R_{xy}(t)$, $L$, $\\theta$\n",
        "- Find the xy-error: $^A e(t) = ^Ar^D_{xy}(t) - ^A{{r}}^P_{xy}(t)$\n",
        "- Obtain the current matrix $M$: $ M_{2\\times 2}(t) = f_2(L,\\theta(T))$\n",
        "- Calculate your control law, I suggest something along the lines of\n",
        "$$u_{2\\times 1}(t)= \\begin{bmatrix}v \\\\ \\dot{\\theta} \\end{bmatrix}_{2\\times 1}= M^{(-1)}_{2\\times 2}[K_p]_{2\\times 2} [^A e_{xy}]_{2\\times 1}(t)$$\n",
        "where $[K_p]_{2\\times 2} = \\begin{bmatrix} K & 0 \\\\ 0 & K \\end{bmatrix}$ for $K>0$.\n",
        "\n",
        "#### Function\n",
        "1. You will write a controller that provides a control law:\n",
        "$$ u_{2\\times 1}(t) = f_3([^Ar^D]_{xy}(t), [^A{{r}}^R]_{xy}(t), \\theta(t), L)$$\n",
        "with the output being a $2\\times 1$ numpy matrix.\n",
        "\n",
        "## Alternate Expression for Kinematics\n",
        "You can show the the velocity of the robot frame can be represented in the following way:\n",
        "$$\\begin{bmatrix}^A\\dot{x}_R \\\\ ^A\\dot{y}_R \\\\ \\dot{\\theta}  \\end{bmatrix} = \\begin{bmatrix} cos(\\theta) & 0 \\\\\n",
        "sin(\\theta) & 0 \\\\\n",
        "0 & 1\\end{bmatrix} \\underbrace{\\begin{bmatrix} v \\\\ \\dot{\\theta} \\end{bmatrix}}_{u(t)} $$\n"
      ]
    },
    {
      "cell_type": "markdown",
      "metadata": {
        "id": "-BXeCP-IMpgG"
      },
      "source": [
        "## Top-Level"
      ]
    },
    {
      "cell_type": "code",
      "execution_count": null,
      "metadata": {
        "id": "5N1bM1geMpgG"
      },
      "outputs": [],
      "source": [
        "import matplotlib.pyplot as plt\n",
        "import mpl_toolkits.mplot3d.axes3d as p3\n",
        "import numpy as np\n",
        "from matplotlib import animation\n",
        "from mpl_toolkits.mplot3d import Axes3D\n",
        "from scipy.integrate import solve_ivp\n",
        "%matplotlib notebook\n",
        "\n",
        "from matplotlib import rc\n",
        "rc('animation', html='jshtml')"
      ]
    },
    {
      "cell_type": "code",
      "execution_count": null,
      "metadata": {
        "id": "dLokWhSnMpgH"
      },
      "outputs": [],
      "source": [
        "# parameters\n",
        "max_time = 30\n",
        "dt = 1. / 20.\n",
        "t = np.linspace(0, max_time, int(max_time / dt) + 1)\n",
        "L = 0.01"
      ]
    },
    {
      "cell_type": "markdown",
      "metadata": {
        "id": "xLrarqkjMpgH"
      },
      "source": [
        "## Your Code"
      ]
    },
    {
      "cell_type": "code",
      "execution_count": null,
      "metadata": {
        "id": "dDJmNhu6MpgI"
      },
      "outputs": [],
      "source": [
        "def student_function_1(r, theta, L):\n",
        "    \"\"\"Returns the xy position of point P in frame A\n",
        "\n",
        "    Parameters\n",
        "    ----------\n",
        "    r : np.ndarray, shape=(2,)\n",
        "        Current position of frame R with respect to frame A.\n",
        "    theta : float\n",
        "        Current rotation angle about axis a_3.\n",
        "    L : float\n",
        "        Position of P in frame R along axis r_1.\n",
        "\n",
        "    Returns\n",
        "    -------\n",
        "    p : np.ndarray, shape=(2,)\n",
        "        Position of P in frame A.\n",
        "    \"\"\"\n",
        "    # Rotation matrix from frame R to frame A.\n",
        "    R = np.array([[np.cos(theta), -np.sin(theta), 0],\n",
        "                  [np.sin(theta), np.cos(theta), 0],\n",
        "                  [0, 0, 1]\n",
        "                  ])\n",
        "    p = r + R @ np.array([L, 0, 0])\n",
        "    return p\n",
        "\n",
        "def student_function_2(L, theta):\n",
        "    \"\"\"Returns the matrix M.\n",
        "\n",
        "    Parameters\n",
        "    ----------\n",
        "    See student_function_1.\n",
        "\n",
        "    Returns\n",
        "    -------\n",
        "    M : np.ndarray, shape=(2, 2)\n",
        "        The matrix M relating input velocities to the velocity of point P.\n",
        "    \"\"\"\n",
        "    M = np.array([[np.cos(theta), -L * np.sin(theta)],\n",
        "                  [np.sin(theta), L * np.cos(theta)]])\n",
        "    return M\n",
        "\n",
        "def student_function_3(rd, r, L, theta):\n",
        "    \"\"\"Computes the control input u=[v, omega]^T.\n",
        "\n",
        "    Parameters\n",
        "    ----------\n",
        "    rd : np.ndarray, shape=(2,)\n",
        "        Desired position of robot position.\n",
        "    See student_function_1 for rest of parameters.\n",
        "\n",
        "    Returns\n",
        "    -------\n",
        "    u : np.ndarray, shape=(2,)\n",
        "        Control input [v, omega]^T.\n",
        "    \"\"\"\n",
        "    M = student_function_2(L, theta)\n",
        "    u = np.linalg.inv(M) @ (r - rd)\n",
        "    return u"
      ]
    },
    {
      "cell_type": "markdown",
      "metadata": {
        "id": "7MGPAvvAMpgI"
      },
      "source": [
        "## Simulation"
      ]
    },
    {
      "cell_type": "code",
      "execution_count": null,
      "metadata": {
        "id": "_dPK_JEQMpgI"
      },
      "outputs": [],
      "source": [
        "class Simulation(object):\n",
        "    def __init__(self, rd_type='circle'):\n",
        "        assert rd_type == 'circle' or rd_type == 'sine'\n",
        "        self.rd_type = rd_type\n",
        "\n",
        "    def desired_position_circle(self,time):\n",
        "        ang_rate = 0.15 * np.pi / 2.0\n",
        "        circ_rad = 2.0\n",
        "        rd = np.array([circ_rad * np.cos(ang_rate * time), circ_rad * np.sin(ang_rate * time)])\n",
        "        return rd\n",
        "\n",
        "    def desired_position_sine(self, time):\n",
        "        ang_rate = 0.4 * np.pi / 3.0\n",
        "        circ_rad = 0.2\n",
        "        x_lim = 10\n",
        "        x_rate = 0.5\n",
        "        rd = np.array([time, circ_rad * np.sin(ang_rate * time) + 0.3])\n",
        "        return rd\n",
        "\n",
        "    def nonholonomic_kinematics(self, tsim, state, L=0.1):\n",
        "        x1, x2, x3 = state\n",
        "        r = np.array([x1,x2])\n",
        "        if self.rd_type == 'circle':\n",
        "            rd = self.desired_position_circle(tsim)\n",
        "        elif self.rd_type == 'sine':\n",
        "            rd = self.desired_position_sine(tsim)\n",
        "        else:\n",
        "            raise NotImplementedError\n",
        "\n",
        "        theta = x3\n",
        "        u = student_function_3(rd, r, L, theta)\n",
        "        v = u.item(0)\n",
        "        dth = u.item(1)\n",
        "        dx1 = np.cos(x3) * v\n",
        "        dx2 = np.sin(x3) * v\n",
        "        dx3 = dth\n",
        "        return [dx1, dx2, dx3]\n",
        "\n",
        "    def integrator(self, times, L):\n",
        "        x0 = np.array([0, 0, 0])\n",
        "        dyn = lambda t, x: self.nonholonomic_kinematics(t, x, L=L)\n",
        "        sol = solve_ivp(dyn, [times[0], times[-1]], x0, t_eval=times)\n",
        "        x_t = sol.y.T\n",
        "\n",
        "        if self.rd_type == 'circle':\n",
        "            x_d_t = np.array(\n",
        "                [\n",
        "                    [self.desired_position_circle(time).item(0),self.desired_position_circle(time).item(1)]\n",
        "                    for time in t\n",
        "                ]\n",
        "            )\n",
        "        elif self.rd_type == 'sine':\n",
        "            x_d_t = np.array(\n",
        "                [\n",
        "                    [self.desired_position_sine(time).item(0),self.desired_position_sine(time).item(1)]\n",
        "                    for time in t\n",
        "                ]\n",
        "            )\n",
        "        else:\n",
        "            raise NotImplementedError\n",
        "        return [x_t, x_d_t]\n",
        "\n",
        "def plot_result(x_t, x_d_t):\n",
        "    fig = plt.figure()\n",
        "    ax = fig.add_subplot(111, autoscale_on=True)\n",
        "    ax.plot(x_t[:, 0], x_t[:, 1], label=r'$^Ar^R$', c='b')\n",
        "    ax.plot(x_d_t[:, 0], x_d_t[:, 1], label=r'$^Ar^D$', c='r')\n",
        "    ax.grid()\n",
        "    ax.legend()"
      ]
    },
    {
      "cell_type": "markdown",
      "metadata": {
        "id": "QWYzkKNEMpgJ"
      },
      "source": [
        "## Plot the result\n"
      ]
    },
    {
      "cell_type": "code",
      "execution_count": null,
      "metadata": {
        "scrolled": false,
        "id": "HROPmKJLMpgJ"
      },
      "outputs": [],
      "source": [
        "#Follow a sine curve\n",
        "cls_obj = Simulation('sine')\n",
        "x_t, x_d_t = cls_obj.integrator(t, L)\n",
        "plot_result(x_t, x_d_t)"
      ]
    },
    {
      "cell_type": "code",
      "execution_count": null,
      "metadata": {
        "id": "JDJ0fGhWMpgJ"
      },
      "outputs": [],
      "source": [
        "#Follow a circle curve\n",
        "cls_obj = Simulation('circle')\n",
        "x_t, x_d_t = cls_obj.integrator(t, L)\n",
        "plot_result(x_t, x_d_t)"
      ]
    },
    {
      "cell_type": "markdown",
      "metadata": {
        "id": "6gHnH3iLMpgJ"
      },
      "source": [
        "## Animate Results:"
      ]
    },
    {
      "cell_type": "code",
      "execution_count": null,
      "metadata": {
        "id": "DVF0up5AMpgJ"
      },
      "outputs": [],
      "source": [
        "from matplotlib import animation\n",
        "from IPython.display import HTML\n",
        "\n",
        "#Draw the objects\n",
        "fig3 = plt.figure();\n",
        "ax3 = fig3.add_subplot(111, autoscale_on=False, xlim=(-10, 10), ylim=(-10, 10));\n",
        "ax3.set_aspect('equal')\n",
        "\n",
        "#define animation structions\n",
        "robot_frame, = ax3.plot([], [], '-',color='green', lw=3)\n",
        "robot_left_tire, = ax3.plot([], [], '-',color='blue', lw=1)\n",
        "robot_right_tire, = ax3.plot([], [], '-',color='blue', lw=1)\n",
        "robot_des_frame, = ax3.plot([], [], 'o',color='red', lw=15)\n",
        "\n",
        "def update_robot(i, robot_frame, robot_left_tire, robot_right_tire):\n",
        "    robot_x = x_t[i, 0]\n",
        "    robot_y = x_t[i, 1]\n",
        "    theta = x_t[i, 2]\n",
        "\n",
        "    rx = [-0.2, 0.2]\n",
        "    ry = [-0.2, 0.2]\n",
        "    wxl = [-0.215, -0.210]\n",
        "    wxr = [0.21, 0.215]\n",
        "    wy = [-0.2, 0.2]\n",
        "\n",
        "    wl = np.array([[robot_x + np.cos(theta) * wxx, robot_y + np.sin(theta) * wyy] for wxx in wxl for wyy in wy])\n",
        "    wr = np.array([[robot_x + np.cos(theta) * wxx,robot_y + np.sin(theta) * wyy] for wxx in wxr for wyy in wy])\n",
        "\n",
        "    r = np.array([[robot_x + np.cos(theta) * rxx, robot_y + np.sin(theta) * ryy] for rxx in rx for ryy in ry])\n",
        "\n",
        "    # robot frame\n",
        "    robot_frame_x_ = [-0.2, 0.2, 0.2, -0.2, -0.2]\n",
        "    robot_frame_y_ = [-0.2, -0.2, 0.2, 0.2, -0.2]\n",
        "    robot_frame_x = [\n",
        "        robot_x + np.cos(theta) * robot_frame_x_[j] - np.sin(theta) * robot_frame_y_[j] for j in range(5)\n",
        "    ]\n",
        "    robot_frame_y = [\n",
        "        robot_y + np.sin(theta) * robot_frame_x_[j] + np.cos(theta) * robot_frame_y_[j] for j in range(5)\n",
        "    ]\n",
        "\n",
        "    # robot left tire\n",
        "    robot_left_tire_x_ = [-0.215, 0.210]\n",
        "    robot_left_tire_y_ = [-0.2, -0.2]\n",
        "    robot_left_tire_x = [\n",
        "        robot_x + np.cos(theta) * robot_left_tire_x_[j] - np.sin(theta) * robot_left_tire_y_[j] for j in range(2)\n",
        "    ]\n",
        "    robot_left_tire_y = [\n",
        "        robot_y + np.sin(theta) * robot_left_tire_x_[j] + np.cos(theta) * robot_left_tire_y_[j] for j in range(2)\n",
        "    ]\n",
        "\n",
        "    # robot right tire\n",
        "    robot_right_tire_x_ = [-0.2, 0.2]\n",
        "    robot_right_tire_y_ = [0.21, 0.21]\n",
        "    robot_right_tire_x = [\n",
        "        robot_x + np.cos(theta) * robot_right_tire_x_[j] - np.sin(theta) * robot_right_tire_y_[j] for j in range(2)\n",
        "    ]\n",
        "    robot_right_tire_y = [\n",
        "        robot_y + np.sin(theta) * robot_right_tire_x_[j] + np.cos(theta) * robot_right_tire_y_[j] for j in range(2)\n",
        "    ]\n",
        "\n",
        "    # return robot frame\n",
        "    robot_frame.set_data(robot_frame_x,robot_frame_y)\n",
        "    robot_left_tire.set_data(robot_left_tire_x, robot_left_tire_y)\n",
        "    robot_right_tire.set_data(robot_right_tire_x, robot_right_tire_y)\n",
        "    ax3.set_title(f\"Time: {(i * dt):0.2f}\")\n",
        "\n",
        "    # desired point\n",
        "    p_des_x = x_d_t[i, 0]\n",
        "    p_des_y = x_d_t[i, 1]\n",
        "    robot_des_frame.set_data([p_des_x], [p_des_y])\n",
        "\n",
        "    return robot_frame, robot_left_tire, robot_right_tire, robot_des_frame\n",
        "\n",
        "robot_ani = animation.FuncAnimation(\n",
        "    fig3,\n",
        "    update_robot,\n",
        "    len(t),\n",
        "    fargs=(robot_frame, robot_left_tire, robot_right_tire),\n",
        "    interval=10,\n",
        ")\n",
        "\n",
        "robot_ani"
      ]
    }
  ],
  "metadata": {
    "kernelspec": {
      "display_name": "Python 3",
      "language": "python",
      "name": "python3"
    },
    "language_info": {
      "codemirror_mode": {
        "name": "ipython",
        "version": 3
      },
      "file_extension": ".py",
      "mimetype": "text/x-python",
      "name": "python",
      "nbconvert_exporter": "python",
      "pygments_lexer": "ipython3",
      "version": "3.6.9"
    },
    "colab": {
      "provenance": []
    }
  },
  "nbformat": 4,
  "nbformat_minor": 0
}