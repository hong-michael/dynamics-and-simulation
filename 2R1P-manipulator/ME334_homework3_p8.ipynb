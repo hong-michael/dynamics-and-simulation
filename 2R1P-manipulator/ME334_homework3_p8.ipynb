{
  "cells": [
    {
      "cell_type": "markdown",
      "id": "environmental-mission",
      "metadata": {
        "id": "environmental-mission"
      },
      "source": [
        "# Homework 3 (Problem 8)\n",
        "## ME 334: Advanced Dynamics, Control and System Identification\n",
        "### Stanford University"
      ]
    },
    {
      "cell_type": "code",
      "execution_count": 1,
      "id": "first-accessory",
      "metadata": {
        "id": "first-accessory"
      },
      "outputs": [],
      "source": [
        "# imports\n",
        "import numpy as np\n",
        "import sympy as sp\n",
        "from sympy import *\n",
        "from sympy.vector import *\n",
        "init_printing(use_unicode=True)"
      ]
    },
    {
      "cell_type": "markdown",
      "id": "chubby-signal",
      "metadata": {
        "id": "chubby-signal"
      },
      "source": [
        "## Setup"
      ]
    },
    {
      "cell_type": "code",
      "execution_count": 2,
      "id": "abandoned-climb",
      "metadata": {
        "id": "abandoned-climb"
      },
      "outputs": [],
      "source": [
        "# defining free parameters\n",
        "th1 = symbols(r'\\theta_1')  # variables\n",
        "th2 = symbols(r'\\theta_2')\n",
        "r3 = symbols(r'r_3')\n",
        "dth1 = symbols(r'\\dot{\\theta}_1')  # first derivatives\n",
        "dth2 = symbols(r'\\dot{\\theta}_2')\n",
        "dr3 = symbols(r'\\dot{r}_3')\n",
        "ddth1 = symbols(r'\\ddot{\\theta}_1')  # second derivatives\n",
        "ddth2 = symbols(r'\\ddot{\\theta}_2')\n",
        "ddr3 = symbols(r'\\ddot{r}_3')"
      ]
    },
    {
      "cell_type": "code",
      "execution_count": 3,
      "id": "collectible-wagon",
      "metadata": {
        "id": "collectible-wagon"
      },
      "outputs": [],
      "source": [
        "## helper functions for kinematics\n",
        "def rot_z(theta):\n",
        "    R = Matrix([\n",
        "        [sp.cos(theta), -sp.sin(theta), 0],\n",
        "        [sp.sin(theta), sp.cos(theta), 0],\n",
        "        [0, 0, 1],\n",
        "    ])\n",
        "    return R\n",
        "\n",
        "def rot_y(theta):\n",
        "    R = Matrix([\n",
        "        [sp.cos(theta), 0, sp.sin(theta)],\n",
        "        [0,1,0],\n",
        "        [-sp.sin(theta),0, sp.cos(theta)],\n",
        "    ])\n",
        "    return R\n",
        "\n",
        "def rot_x(theta):\n",
        "    R = Matrix([\n",
        "        [1, 0, 0],\n",
        "        [0, sp.cos(theta), -sp.sin(theta)],\n",
        "        [0, sp.sin(theta), sp.cos(theta)],\n",
        "    ])\n",
        "    return R"
      ]
    },
    {
      "cell_type": "code",
      "execution_count": 4,
      "id": "absolute-struggle",
      "metadata": {
        "id": "absolute-struggle"
      },
      "outputs": [],
      "source": [
        "## frames and joint variables\n",
        "\n",
        "## [TODO] Define rotations between frames (you can use the above functions)\n",
        "\n",
        "R_AB = rot_z(th1)\n",
        "R_BC = rot_x(th2)"
      ]
    },
    {
      "cell_type": "code",
      "execution_count": 5,
      "id": "demographic-punch",
      "metadata": {
        "id": "demographic-punch"
      },
      "outputs": [],
      "source": [
        "## link geometry\n",
        "########### (WATCH OUT FOR UNITS!) #############\n",
        "\n",
        "## [TODO] Fill in the data from the problem\n",
        "\n",
        "# link 1\n",
        "H1v = 0.200  #height of vertical cylinder\n",
        "R1v = 0.025  #radius of vertical cylinder\n",
        "H1h = 0.300 - R1v  #height (length) of horizontal cylinder\n",
        "R1h = 0.0175  #radius of horizontal cylinder\n",
        "\n",
        "# link 2\n",
        "H2 = 0.250\n",
        "R2i = 0.006\n",
        "R2e = 0.012\n",
        "\n",
        "# link 3\n",
        "H3 = 0.250\n",
        "R3 = 0.0055\n",
        "\n",
        "## density of aluminum\n",
        "rho = 2700\n",
        "\n",
        "## kinematic params\n",
        "L1 = 0.130  #OQ\n",
        "L2 = H1h  #QR"
      ]
    },
    {
      "cell_type": "markdown",
      "id": "removable-market",
      "metadata": {
        "id": "removable-market"
      },
      "source": [
        "First, we compute the locations of the centers of mass of each link."
      ]
    },
    {
      "cell_type": "code",
      "source": [
        "# Helper function.\n",
        "def mass_cylinder(R, H, rho):\n",
        "    return np.pi * R ** 2 * H * rho\n",
        "\n",
        "mv = mass_cylinder(R1v, H1v, rho)\n",
        "mh = mass_cylinder(R1h, H1h, rho)\n",
        "m1 = mv + mh\n",
        "m2 = mass_cylinder(R2e, H2, rho) - mass_cylinder(R2i, H2, rho)\n",
        "m3 = mass_cylinder(R3, H3, rho)\n",
        "\n",
        "# Display answer\n",
        "m1, m2, m3"
      ],
      "metadata": {
        "id": "UVmrnrS8i0Ku",
        "colab": {
          "base_uri": "https://localhost:8080/",
          "height": 38
        },
        "outputId": "5b873f6b-7aa0-4647-b377-6fb53cf24b12"
      },
      "id": "UVmrnrS8i0Ku",
      "execution_count": 20,
      "outputs": [
        {
          "output_type": "execute_result",
          "data": {
            "text/plain": [
              "(1.774656237581747, 0.2290221044466959, 0.06414739499548658)"
            ],
            "text/latex": "$\\displaystyle \\left( 1.77465623758175, \\  0.229022104446696, \\  0.0641473949954866\\right)$"
          },
          "metadata": {},
          "execution_count": 20
        }
      ]
    },
    {
      "cell_type": "code",
      "source": [
        "# location of P1 (COM 1)\n",
        "mv = np.pi * (R1v ** 2) * H1v * rho  # vertical mass\n",
        "mh = np.pi * (R1h ** 2) * H1h * rho  # horizontal mass\n",
        "locv = Matrix([[0], [0], [H1v / 2]])  # vertical location, A frame\n",
        "loch = Matrix([[-(H1h / 2) * sin(th1)], [(H1h / 2) * cos(th1)], [L1]])  # horizontal location, A frame\n",
        "A_r_OP1 = (mv * locv + mh * loch) / (mv + mh)\n",
        "\n",
        "# location of P2 (COM2)\n",
        "C_r_RP2 = Matrix([[0], [H2/2], [0]])  # location 2, C frame\n",
        "B_r_QP2 = R_BC * C_r_RP2 + Matrix([[0], [L2], [0]])  # transform to B frame\n",
        "A_r_OP2 = R_AB * B_r_QP2 + Matrix([[0], [0], [L1]])  # transform to A frame\n",
        "\n",
        "# location of P3 (COM3)\n",
        "C_r_RP3 = Matrix([[0], [r3-H3/2], [0]])  # location 2, C frame\n",
        "B_r_QP3 = R_BC * C_r_RP3 + Matrix([[0], [L2], [0]]) # transform to B frame\n",
        "A_r_OP3 = R_AB * B_r_QP3 + Matrix([[0], [0], [L1]])  # transform to A frame\n",
        "\n",
        "# Display answer\n",
        "A_r_OP3\n"
      ],
      "metadata": {
        "colab": {
          "base_uri": "https://localhost:8080/",
          "height": 78
        },
        "id": "AkG4CPqs0ipA",
        "outputId": "29c3ceb1-d186-4d78-b19c-6a4bbec21f41"
      },
      "id": "AkG4CPqs0ipA",
      "execution_count": 19,
      "outputs": [
        {
          "output_type": "execute_result",
          "data": {
            "text/plain": [
              "⎡-((r₃ - 0.125)⋅cos(\\theta₂) + 0.275)⋅sin(\\theta₁)⎤\n",
              "⎢                                                 ⎥\n",
              "⎢((r₃ - 0.125)⋅cos(\\theta₂) + 0.275)⋅cos(\\theta₁) ⎥\n",
              "⎢                                                 ⎥\n",
              "⎣        (r₃ - 0.125)⋅sin(\\theta₂) + 0.13         ⎦"
            ],
            "text/latex": "$\\displaystyle \\left[\\begin{matrix}- \\left(\\left(r_{3} - 0.125\\right) \\cos{\\left(\\theta_{2} \\right)} + 0.275\\right) \\sin{\\left(\\theta_{1} \\right)}\\\\\\left(\\left(r_{3} - 0.125\\right) \\cos{\\left(\\theta_{2} \\right)} + 0.275\\right) \\cos{\\left(\\theta_{1} \\right)}\\\\\\left(r_{3} - 0.125\\right) \\sin{\\left(\\theta_{2} \\right)} + 0.13\\end{matrix}\\right]$"
          },
          "metadata": {},
          "execution_count": 19
        }
      ]
    },
    {
      "cell_type": "code",
      "source": [
        "# Display answer\n",
        "N(A_r_OP1.subs([\n",
        "    (th1, -sqrt(2)),\n",
        "    (th2, sqrt(3)),\n",
        "    (r3, sqrt(5)/10),\n",
        "    (dth1, sqrt(7)),\n",
        "    (dth2, -sqrt(11)),\n",
        "    (dr3, sqrt(13)/1000),\n",
        "]))"
      ],
      "metadata": {
        "colab": {
          "base_uri": "https://localhost:8080/",
          "height": 78
        },
        "id": "CnE2CSAr0y7E",
        "outputId": "847b20f5-8427-4cb7-c471-47d955066c8b"
      },
      "id": "CnE2CSAr0y7E",
      "execution_count": 22,
      "outputs": [
        {
          "output_type": "execute_result",
          "data": {
            "text/plain": [
              "⎡0.0546719967680258 ⎤\n",
              "⎢                   ⎥\n",
              "⎢0.00863134957303869⎥\n",
              "⎢                   ⎥\n",
              "⎣ 0.112076176250934 ⎦"
            ],
            "text/latex": "$\\displaystyle \\left[\\begin{matrix}0.0546719967680258\\\\0.00863134957303869\\\\0.112076176250934\\end{matrix}\\right]$"
          },
          "metadata": {},
          "execution_count": 22
        }
      ]
    },
    {
      "cell_type": "code",
      "source": [
        "# Display answer\n",
        "N(A_r_OP2.subs([\n",
        "    (th1, -sqrt(2)),\n",
        "    (th2, sqrt(3)),\n",
        "    (r3, sqrt(5)/10),\n",
        "    (dth1, sqrt(7)),\n",
        "    (dth2, -sqrt(11)),\n",
        "    (dr3, sqrt(13)/1000),\n",
        "]))"
      ],
      "metadata": {
        "colab": {
          "base_uri": "https://localhost:8080/",
          "height": 78
        },
        "id": "S4nL5EpL0yWY",
        "outputId": "335db226-ceab-48c0-9870-11481cca7945"
      },
      "id": "S4nL5EpL0yWY",
      "execution_count": 23,
      "outputs": [
        {
          "output_type": "execute_result",
          "data": {
            "text/plain": [
              "⎡0.251811599996684 ⎤\n",
              "⎢                  ⎥\n",
              "⎢0.0397547935799684⎥\n",
              "⎢                  ⎥\n",
              "⎣0.253378330623794 ⎦"
            ],
            "text/latex": "$\\displaystyle \\left[\\begin{matrix}0.251811599996684\\\\0.0397547935799684\\\\0.253378330623794\\end{matrix}\\right]$"
          },
          "metadata": {},
          "execution_count": 23
        }
      ]
    },
    {
      "cell_type": "code",
      "source": [
        "# Display answer\n",
        "N(A_r_OP3.subs([\n",
        "    (th1, -sqrt(2)),\n",
        "    (th2, sqrt(3)),\n",
        "    (r3, sqrt(5)/10),\n",
        "    (dth1, sqrt(7)),\n",
        "    (dth2, -sqrt(11)),\n",
        "    (dr3, sqrt(13)/1000),\n",
        "]))"
      ],
      "metadata": {
        "colab": {
          "base_uri": "https://localhost:8080/",
          "height": 78
        },
        "id": "AiAIdCRP0yDx",
        "outputId": "fef2d77b-3ab2-4782-aa05-ce127f62c8b8"
      },
      "id": "AiAIdCRP0yDx",
      "execution_count": 24,
      "outputs": [
        {
          "output_type": "execute_result",
          "data": {
            "text/plain": [
              "⎡0.255997358149966 ⎤\n",
              "⎢                  ⎥\n",
              "⎢0.0404156207672846⎥\n",
              "⎢                  ⎥\n",
              "⎣0.227327536756404 ⎦"
            ],
            "text/latex": "$\\displaystyle \\left[\\begin{matrix}0.255997358149966\\\\0.0404156207672846\\\\0.227327536756404\\end{matrix}\\right]$"
          },
          "metadata": {},
          "execution_count": 24
        }
      ]
    },
    {
      "cell_type": "markdown",
      "source": [
        "Second, we compute the velocities of the centers of mass of each link."
      ],
      "metadata": {
        "id": "YJZ2UavcjAq0"
      },
      "id": "YJZ2UavcjAq0"
    },
    {
      "cell_type": "code",
      "source": [
        "#angular velocities\n",
        "A_w_AB = dth1 * Matrix([[0], [0], [1]])\n",
        "A_w_BC = R_AB * (R_BC * (dth2 * Matrix([[1], [0], [0]])))\n",
        "A_w_AC = A_w_AB + A_w_BC\n",
        "\n",
        "# computing A_v_AP1 - no translational velocity\n",
        "A_v_AP1 = A_w_AB.cross(A_r_OP1)  # note: B_w_AB = A_w_AB\n",
        "\n",
        "# computing A_v_AP2\n",
        "A_v_AP2 = sp.simplify(A_w_AB.cross(A_r_OP2) + A_w_BC.cross(R_AB * (R_BC * C_r_RP2)))\n",
        "\n",
        "# computing A_v_AP3\n",
        "A_v_AP3 = sp.simplify(\n",
        "    A_w_AB.cross(A_r_OP3)\n",
        "    + A_w_BC.cross(R_AB * (R_BC * C_r_RP3))\n",
        "    + R_AB * (R_BC * (dr3 * Matrix([[0], [1], [0]])))\n",
        ")"
      ],
      "metadata": {
        "id": "7wU_pY16jHAF"
      },
      "id": "7wU_pY16jHAF",
      "execution_count": 15,
      "outputs": []
    },
    {
      "cell_type": "code",
      "source": [
        "# Display answer\n",
        "N(A_v_AP1.subs([\n",
        "    (th1, -sqrt(2)),\n",
        "    (th2, sqrt(3)),\n",
        "    (r3, sqrt(5)/10),\n",
        "    (dth1, sqrt(7)),\n",
        "    (dth2, -sqrt(11)),\n",
        "    (dr3, sqrt(13)/1000),\n",
        "]))"
      ],
      "metadata": {
        "colab": {
          "base_uri": "https://localhost:8080/",
          "height": 78
        },
        "id": "BYS4SZpU1Agq",
        "outputId": "54f12936-b37e-460a-e1f2-81f04d8f7313"
      },
      "id": "BYS4SZpU1Agq",
      "execution_count": 25,
      "outputs": [
        {
          "output_type": "execute_result",
          "data": {
            "text/plain": [
              "⎡-0.0228364044491239⎤\n",
              "⎢                   ⎥\n",
              "⎢ 0.144648507127523 ⎥\n",
              "⎢                   ⎥\n",
              "⎣         0         ⎦"
            ],
            "text/latex": "$\\displaystyle \\left[\\begin{matrix}-0.0228364044491239\\\\0.144648507127523\\\\0\\end{matrix}\\right]$"
          },
          "metadata": {},
          "execution_count": 25
        }
      ]
    },
    {
      "cell_type": "markdown",
      "source": [
        "At the given state, the velocities are:"
      ],
      "metadata": {
        "id": "NSY2HyPEn8wJ"
      },
      "id": "NSY2HyPEn8wJ"
    },
    {
      "cell_type": "code",
      "source": [
        "# Display answer\n",
        "N(A_v_AP2.subs([\n",
        "    (th1, -sqrt(2)),\n",
        "    (th2, sqrt(3)),\n",
        "    (r3, sqrt(5)/10),\n",
        "    (dth1, sqrt(7)),\n",
        "    (dth2, -sqrt(11)),\n",
        "    (dr3, sqrt(13)/1000),\n",
        "]))"
      ],
      "metadata": {
        "colab": {
          "base_uri": "https://localhost:8080/",
          "height": 78
        },
        "id": "N4tir-bt1IPZ",
        "outputId": "e363c552-94b0-47d0-af8b-6803487185cb"
      },
      "id": "N4tir-bt1IPZ",
      "execution_count": 26,
      "outputs": [
        {
          "output_type": "execute_result",
          "data": {
            "text/plain": [
              "⎡0.299012162331804⎤\n",
              "⎢                 ⎥\n",
              "⎢0.730042973021894⎥\n",
              "⎢                 ⎥\n",
              "⎣0.066563224511309⎦"
            ],
            "text/latex": "$\\displaystyle \\left[\\begin{matrix}0.299012162331804\\\\0.730042973021894\\\\0.066563224511309\\end{matrix}\\right]$"
          },
          "metadata": {},
          "execution_count": 26
        }
      ]
    },
    {
      "cell_type": "code",
      "source": [
        "# Display answer\n",
        "N(A_v_AP3.subs([\n",
        "    (th1, -sqrt(2)),\n",
        "    (th2, sqrt(3)),\n",
        "    (r3, sqrt(5)/10),\n",
        "    (dth1, sqrt(7)),\n",
        "    (dth2, -sqrt(11)),\n",
        "    (dr3, sqrt(13)/1000),\n",
        "]))"
      ],
      "metadata": {
        "colab": {
          "base_uri": "https://localhost:8080/",
          "height": 78
        },
        "id": "lSQ3xOCf1IEO",
        "outputId": "24273b7f-8ff6-4110-8427-0042e96ec393"
      },
      "id": "lSQ3xOCf1IEO",
      "execution_count": 27,
      "outputs": [
        {
          "output_type": "execute_result",
          "data": {
            "text/plain": [
              "⎡0.211348287520855 ⎤\n",
              "⎢                  ⎥\n",
              "⎢0.727553527392018 ⎥\n",
              "⎢                  ⎥\n",
              "⎣0.0560674665145466⎦"
            ],
            "text/latex": "$\\displaystyle \\left[\\begin{matrix}0.211348287520855\\\\0.727553527392018\\\\0.0560674665145466\\end{matrix}\\right]$"
          },
          "metadata": {},
          "execution_count": 27
        }
      ]
    },
    {
      "cell_type": "code",
      "source": [
        "# You may use this substitution rule (lengths are in meters here, change if you're doing everything in mm!):\n",
        "# subs([\n",
        "#    (th1, -sqrt(2)),\n",
        "#    (th2, sqrt(3)),\n",
        "#    (r3, sqrt(5)/10),\n",
        "#    (dth1, sqrt(7)),\n",
        "#    (dth2, -sqrt(11)),\n",
        "#    (dr3, sqrt(13)/1000),\n",
        "# ])\n",
        "\n",
        "## Use N() to report values in decimal form\n",
        "## Specify units of your final answer"
      ],
      "metadata": {
        "id": "6z5Gmkoun-q3"
      },
      "id": "6z5Gmkoun-q3",
      "execution_count": null,
      "outputs": []
    },
    {
      "cell_type": "markdown",
      "source": [
        "Third, we express the angular velocities of each link in convenient frames for the energy calculation."
      ],
      "metadata": {
        "id": "A1vOj7BUjQKs"
      },
      "id": "A1vOj7BUjQKs"
    },
    {
      "cell_type": "code",
      "source": [
        "# Computing these directly from the frames of interest.\n",
        "\n",
        "# angular velocity of link 1 in frame B\n",
        "B_w_AB = R_AB.transpose() * A_w_AB  # note: B_w_AB = A_w_AB\n",
        "\n",
        "# angular velocity of link 2, 3 in frame C\n",
        "C_w_BC = (R_AB * R_BC).transpose() * A_w_BC\n",
        "C_w_AC = (R_AB * R_BC).transpose() * A_w_AC\n",
        "\n",
        "# the angular velocities of links 2 and 3 are identical as they only translate wrt each other"
      ],
      "metadata": {
        "id": "SaoGvo2zjRnm"
      },
      "id": "SaoGvo2zjRnm",
      "execution_count": 16,
      "outputs": []
    },
    {
      "cell_type": "code",
      "source": [
        "# Display answer\n",
        "N(B_w_AB.subs([\n",
        "    (th1, -sqrt(2)),\n",
        "    (th2, sqrt(3)),\n",
        "    (r3, sqrt(5)/10),\n",
        "    (dth1, sqrt(7)),\n",
        "    (dth2, -sqrt(11)),\n",
        "    (dr3, sqrt(13)/1000),\n",
        "]))"
      ],
      "metadata": {
        "colab": {
          "base_uri": "https://localhost:8080/",
          "height": 78
        },
        "id": "ZyRW8uGh0bAg",
        "outputId": "84556ce2-ee9f-4069-e6d9-cd00d49524a7"
      },
      "id": "ZyRW8uGh0bAg",
      "execution_count": 29,
      "outputs": [
        {
          "output_type": "execute_result",
          "data": {
            "text/plain": [
              "⎡       0        ⎤\n",
              "⎢                ⎥\n",
              "⎢       0        ⎥\n",
              "⎢                ⎥\n",
              "⎣2.64575131106459⎦"
            ],
            "text/latex": "$\\displaystyle \\left[\\begin{matrix}0\\\\0\\\\2.64575131106459\\end{matrix}\\right]$"
          },
          "metadata": {},
          "execution_count": 29
        }
      ]
    },
    {
      "cell_type": "code",
      "source": [
        "# Display answer\n",
        "N(C_w_AC.subs([\n",
        "    (th1, -sqrt(2)),\n",
        "    (th2, sqrt(3)),\n",
        "    (r3, sqrt(5)/10),\n",
        "    (dth1, sqrt(7)),\n",
        "    (dth2, -sqrt(11)),\n",
        "    (dr3, sqrt(13)/1000),\n",
        "]))"
      ],
      "metadata": {
        "colab": {
          "base_uri": "https://localhost:8080/",
          "height": 78
        },
        "id": "M7z0DSwh1UvI",
        "outputId": "675be6c0-e416-4393-d9bf-35fc1576fdf4"
      },
      "id": "M7z0DSwh1UvI",
      "execution_count": 28,
      "outputs": [
        {
          "output_type": "execute_result",
          "data": {
            "text/plain": [
              "⎡-3.3166247903554 ⎤\n",
              "⎢                 ⎥\n",
              "⎢2.61142704003891 ⎥\n",
              "⎢                 ⎥\n",
              "⎣-0.42479267243398⎦"
            ],
            "text/latex": "$\\displaystyle \\left[\\begin{matrix}-3.3166247903554\\\\2.61142704003891\\\\-0.42479267243398\\end{matrix}\\right]$"
          },
          "metadata": {},
          "execution_count": 28
        }
      ]
    },
    {
      "cell_type": "markdown",
      "source": [
        "At the given state, the angular velocities are:"
      ],
      "metadata": {
        "id": "Q4U2Ud49ohWA"
      },
      "id": "Q4U2Ud49ohWA"
    },
    {
      "cell_type": "code",
      "source": [
        "# You may use this substitution rule (lengths are in meters here, change if you're doing everything in mm!):\n",
        "# subs([\n",
        "#    (th1, -sqrt(2)),\n",
        "#    (th2, sqrt(3)),\n",
        "#    (r3, sqrt(5)/10),\n",
        "#    (dth1, sqrt(7)),\n",
        "#    (dth2, -sqrt(11)),\n",
        "#    (dr3, sqrt(13)/1000),\n",
        "# ])\n",
        "\n",
        "## Use N() to report values in decimal form\n",
        "## Specify units of your final answer"
      ],
      "metadata": {
        "id": "o2j6QP6YokA4"
      },
      "id": "o2j6QP6YokA4",
      "execution_count": null,
      "outputs": []
    },
    {
      "cell_type": "markdown",
      "id": "cleared-logic",
      "metadata": {
        "id": "cleared-logic"
      },
      "source": [
        "Fourth, we compute the inertia tensors of each link. Following the integration procedure here: https://scienceworld.wolfram.com/physics/MomentofInertiaCylinder.html, we know that the inertia tensor of a solid cylinder is"
      ]
    },
    {
      "cell_type": "code",
      "execution_count": 30,
      "id": "binding-aurora",
      "metadata": {
        "id": "binding-aurora"
      },
      "outputs": [],
      "source": [
        "# helper functions for inertia calculation\n",
        "\n",
        "def Ic_cylinder(R, H, rho):\n",
        "    Ic = (np.pi * rho * R ** 2 * H) * Matrix([\n",
        "        [(H ** 2) / 12 + (R ** 2) / 4, 0, 0],\n",
        "        [0, (H ** 2) / 12 + (R ** 2) / 4, 0],\n",
        "        [0, 0, (R ** 2) / 2],\n",
        "    ])\n",
        "    return Ic\n",
        "\n",
        "def inertia_particle(p1, p2):\n",
        "    x = p1[0] - p2[0]\n",
        "    y = p1[1] - p2[1]\n",
        "    z = p1[2] - p2[2]\n",
        "    I = Matrix([\n",
        "        [y ** 2 + z ** 2, -x * y, -x * z],\n",
        "        [-x * y, x ** 2 + z ** 2, -y * z],\n",
        "        [-x * z, -y * z, x ** 2 + y ** 2],\n",
        "    ])\n",
        "    return I"
      ]
    },
    {
      "cell_type": "code",
      "source": [
        "# inertia of link 1 about its center of mass in SRT B\n",
        "I_hrz = Ic_cylinder(R1h, H1h, rho) # inertia of horizontal segment expressed in a frame with horizontal z axis\n",
        "I_vert = Ic_cylinder(R1v, H1v, rho) # inertia of vertical segment expressed in a frame with vertical z axis\n",
        "# as there is axial symmetry, x and y axes are non-unique, any rotation about z doesn't change the inertia tensor\n",
        "rot_perp = rot_x(np.pi / 2) #rotation of pi/2 about x\n",
        "I_hrz_rot = rot_perp * I_hrz * rot_perp.transpose()\n",
        "\n",
        "# shifting theorem to get inertia tensors of both parts about mass center of link 1 in frame B\n",
        "I_hrz_cen = I_hrz_rot + mh * inertia_particle(loch.subs(th1, 0), A_r_OP1.subs(th1, 0))  #inertia of horizontal segment about mass center of link 1\n",
        "I_vert_cen = I_vert + mv * inertia_particle(locv.subs(th1, 0), A_r_OP1.subs(th1, 0)) #inertia of vertical segment about mass center of link 1\n",
        "B_I1 = I_hrz_cen + I_vert_cen\n",
        "\n",
        "# inertia of link 2 about its center of mass in frame C: this time for the external and internal, point of reference and frame are both already same in the formula\n",
        "C_I2 = rot_perp.transpose() * (Ic_cylinder(R2e, H2, rho) - Ic_cylinder(R2i, H2, rho)) * rot_perp #originally the z axis was along c2, so we rotate about c1 by -pi/2\n",
        "\n",
        "#  inertia of link 3 about its center of mass in frame C\n",
        "C_I3 = rot_perp.transpose() * (Ic_cylinder(R3, H3, rho)) * rot_perp"
      ],
      "metadata": {
        "id": "5sODK5thjeJN"
      },
      "id": "5sODK5thjeJN",
      "execution_count": 31,
      "outputs": []
    },
    {
      "cell_type": "markdown",
      "id": "secondary-jacket",
      "metadata": {
        "id": "secondary-jacket"
      },
      "source": [
        "Finally, we compute the total kinetic energy of the system.\n",
        "\n",
        "Note that inertias and angular velocities can be expressed in any SRT, but the inertia tensor for any particular link and its angular velocity have to expressed in the same SRT for the energy term to make sense."
      ]
    },
    {
      "cell_type": "code",
      "execution_count": 32,
      "id": "cognitive-manitoba",
      "metadata": {
        "id": "cognitive-manitoba",
        "colab": {
          "base_uri": "https://localhost:8080/",
          "height": 82
        },
        "outputId": "55584131-069b-4f2c-b246-85627180294a"
      },
      "outputs": [
        {
          "output_type": "execute_result",
          "data": {
            "text/plain": [
              "                                2   2    2                                    \n",
              "0.0320736974977433⋅\\dot{\\theta}₁ ⋅r₃ ⋅cos (\\theta₂) - 0.00801842437443582⋅\\dot\n",
              "\n",
              "         2       2                                            2               \n",
              "{\\theta}₁ ⋅r₃⋅cos (\\theta₂) + 0.0176405336237588⋅\\dot{\\theta}₁ ⋅r₃⋅cos(\\theta₂\n",
              "\n",
              "                                     2    2                                   \n",
              ") + 0.00229038671439205⋅\\dot{\\theta}₁ ⋅cos (\\theta₂) + 0.00566756813738532⋅\\do\n",
              "\n",
              "          2                                                2                  \n",
              "t{\\theta}₁ ⋅cos(\\theta₂) + 0.0202825109206569⋅\\dot{\\theta}₁  + 0.0320736974977\n",
              "\n",
              "                 2   2                                    2                   \n",
              "433⋅\\dot{\\theta}₂ ⋅r₃  - 0.00801842437443582⋅\\dot{\\theta}₂ ⋅r₃ + 0.00305924450\n",
              "\n",
              "                    2                              2\n",
              "721011⋅\\dot{\\theta}₂  + 0.0320736974977433⋅\\dot{r}₃ "
            ],
            "text/latex": "$\\displaystyle 0.0320736974977433 \\dot{\\theta}_1^{2} r_{3}^{2} \\cos^{2}{\\left(\\theta_{2} \\right)} - 0.00801842437443582 \\dot{\\theta}_1^{2} r_{3} \\cos^{2}{\\left(\\theta_{2} \\right)} + 0.0176405336237588 \\dot{\\theta}_1^{2} r_{3} \\cos{\\left(\\theta_{2} \\right)} + 0.00229038671439205 \\dot{\\theta}_1^{2} \\cos^{2}{\\left(\\theta_{2} \\right)} + 0.00566756813738532 \\dot{\\theta}_1^{2} \\cos{\\left(\\theta_{2} \\right)} + 0.0202825109206569 \\dot{\\theta}_1^{2} + 0.0320736974977433 \\dot{\\theta}_2^{2} r_{3}^{2} - 0.00801842437443582 \\dot{\\theta}_2^{2} r_{3} + 0.00305924450721011 \\dot{\\theta}_2^{2} + 0.0320736974977433 \\dot{r}_3^{2}$"
          },
          "metadata": {},
          "execution_count": 32
        }
      ],
      "source": [
        "T_mat_form = (1 / 2) * (\n",
        "    m1 * A_v_AP1.transpose() * A_v_AP1\n",
        "    + m2 * A_v_AP2.transpose() * A_v_AP2\n",
        "    + m3 * A_v_AP3.transpose() * A_v_AP3\n",
        "    + B_w_AB.transpose() * B_I1 * B_w_AB\n",
        "    + C_w_BC.transpose() * (C_I2 + C_I3) * C_w_BC\n",
        ")\n",
        "T = sp.simplify(T_mat_form[0])\n",
        "\n",
        "# Display answer\n",
        "T"
      ]
    },
    {
      "cell_type": "markdown",
      "id": "stupid-professional",
      "metadata": {
        "id": "stupid-professional"
      },
      "source": [
        "At the given state, in Nm, the kinetic energy is:\n",
        "\n"
      ]
    },
    {
      "cell_type": "code",
      "source": [
        "# Display answer\n",
        "N(T.subs([(th1, -sqrt(2)), (th2, sqrt(3)), (r3, 1/10*sqrt(5)), (dth1, sqrt(7)), (dth2, -sqrt(11)), (dr3, sqrt(13)/1000)]))"
      ],
      "metadata": {
        "colab": {
          "base_uri": "https://localhost:8080/",
          "height": 38
        },
        "id": "PO-Y5v7m1rxP",
        "outputId": "890b2cdd-47a6-44f5-8ef9-a5402353130a"
      },
      "id": "PO-Y5v7m1rxP",
      "execution_count": 33,
      "outputs": [
        {
          "output_type": "execute_result",
          "data": {
            "text/plain": [
              "0.163123629656796"
            ],
            "text/latex": "$\\displaystyle 0.163123629656796$"
          },
          "metadata": {},
          "execution_count": 33
        }
      ]
    },
    {
      "cell_type": "code",
      "execution_count": null,
      "id": "sharing-stylus",
      "metadata": {
        "id": "sharing-stylus"
      },
      "outputs": [],
      "source": [
        "# You may use this substitution rule (lengths are in meters here, change if you're doing everything in mm!):\n",
        "# subs([\n",
        "#    (th1, -sqrt(2)),\n",
        "#    (th2, sqrt(3)),\n",
        "#    (r3, sqrt(5)/10),\n",
        "#    (dth1, sqrt(7)),\n",
        "#    (dth2, -sqrt(11)),\n",
        "#    (dr3, sqrt(13)/1000),\n",
        "# ])\n",
        "\n",
        "## Use N() to report values in decimal form\n",
        "## Specify units of your final answer"
      ]
    }
  ],
  "metadata": {
    "kernelspec": {
      "display_name": "Python 3",
      "language": "python",
      "name": "python3"
    },
    "language_info": {
      "codemirror_mode": {
        "name": "ipython",
        "version": 3
      },
      "file_extension": ".py",
      "mimetype": "text/x-python",
      "name": "python",
      "nbconvert_exporter": "python",
      "pygments_lexer": "ipython3",
      "version": "3.9.2"
    },
    "colab": {
      "provenance": []
    }
  },
  "nbformat": 4,
  "nbformat_minor": 5
}