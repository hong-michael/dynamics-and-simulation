{
  "cells": [
    {
      "cell_type": "markdown",
      "id": "environmental-mission",
      "metadata": {
        "id": "environmental-mission"
      },
      "source": [
        "# Homework 3 (Problem 8, 2pts)\n",
        "## ME 334: Advanced Dynamics, Control and System Identification\n",
        "### Stanford University"
      ]
    },
    {
      "cell_type": "code",
      "execution_count": null,
      "id": "first-accessory",
      "metadata": {
        "id": "first-accessory"
      },
      "outputs": [],
      "source": [
        "# imports\n",
        "import numpy as np\n",
        "import sympy as sp\n",
        "from sympy import *\n",
        "from sympy.vector import *\n",
        "init_printing(use_unicode=True)"
      ]
    },
    {
      "cell_type": "markdown",
      "id": "chubby-signal",
      "metadata": {
        "id": "chubby-signal"
      },
      "source": [
        "## Setup"
      ]
    },
    {
      "cell_type": "markdown",
      "id": "arranged-villa",
      "metadata": {
        "id": "arranged-villa"
      },
      "source": [
        "![image.png](attachment:image.png)"
      ]
    },
    {
      "cell_type": "code",
      "execution_count": null,
      "id": "abandoned-climb",
      "metadata": {
        "id": "abandoned-climb"
      },
      "outputs": [],
      "source": [
        "# defining free parameters\n",
        "th1 = symbols(r'\\theta_1')  # variables\n",
        "th2 = symbols(r'\\theta_2')\n",
        "r3 = symbols(r'r_3')\n",
        "dth1 = symbols(r'\\dot{\\theta}_1')  # first derivatives\n",
        "dth2 = symbols(r'\\dot{\\theta}_2')\n",
        "dr3 = symbols(r'\\dot{r}_3')\n",
        "ddth1 = symbols(r'\\ddot{\\theta}_1')  # second derivatives\n",
        "ddth2 = symbols(r'\\ddot{\\theta}_2')\n",
        "ddr3 = symbols(r'\\ddot{r}_3')"
      ]
    },
    {
      "cell_type": "code",
      "execution_count": null,
      "id": "collectible-wagon",
      "metadata": {
        "id": "collectible-wagon"
      },
      "outputs": [],
      "source": [
        "## helper functions for kinematics\n",
        "def rot_z(theta):\n",
        "    R = Matrix([\n",
        "        [sp.cos(theta), -sp.sin(theta), 0],\n",
        "        [sp.sin(theta), sp.cos(theta), 0],\n",
        "        [0, 0, 1],\n",
        "    ])\n",
        "    return R\n",
        "\n",
        "def rot_y(theta):\n",
        "    R = Matrix([\n",
        "        [sp.cos(theta), 0, sp.sin(theta)],\n",
        "        [0,1,0],\n",
        "        [-sp.sin(theta),0, sp.cos(theta)],\n",
        "    ])\n",
        "    return R\n",
        "\n",
        "def rot_x(theta):\n",
        "    R = Matrix([\n",
        "        [1, 0, 0],\n",
        "        [0, sp.cos(theta), -sp.sin(theta)],\n",
        "        [0, sp.sin(theta), sp.cos(theta)],\n",
        "    ])\n",
        "    return R"
      ]
    },
    {
      "cell_type": "code",
      "execution_count": null,
      "id": "absolute-struggle",
      "metadata": {
        "id": "absolute-struggle"
      },
      "outputs": [],
      "source": [
        "## frames and joint variables\n",
        "\n",
        "## [TODO] Define rotations between frames (you can use the above functions)\n",
        "\n",
        "R_AB = Matrix([[1, 0, 0], [0, 1, 0], [0, 0, 1]])\n",
        "R_BC = Matrix([[1, 0, 0], [0, 1, 0], [0, 0, 1]])"
      ]
    },
    {
      "cell_type": "code",
      "execution_count": null,
      "id": "demographic-punch",
      "metadata": {
        "id": "demographic-punch"
      },
      "outputs": [],
      "source": [
        "## link geometry \n",
        "########### (WATCH OUT FOR UNITS!) #############\n",
        "\n",
        "## [TODO] Fill in the data from the problem\n",
        "\n",
        "# link 1\n",
        "H1v = 0 #height of vertical cylinder\n",
        "R1v = 0 #radius of vertical cylinder\n",
        "H1h = 0 #height (length) of horizontal cylinder\n",
        "R1h = 0 #radius of horizontal cylinder\n",
        "\n",
        "# link 2\n",
        "H2 = 0 \n",
        "R2i = 0\n",
        "R2e = 0\n",
        "\n",
        "# link 3\n",
        "H3 = 0\n",
        "R3 = 0\n",
        "\n",
        "## density of aluminum\n",
        "rho = 0\n",
        "\n",
        "## kinematic params\n",
        "L1 = 0 #OQ\n",
        "L2 = 0 #QR"
      ]
    },
    {
      "cell_type": "markdown",
      "id": "removable-market",
      "metadata": {
        "id": "removable-market"
      },
      "source": [
        "First, we compute the locations of the centers of mass of each link."
      ]
    },
    {
      "cell_type": "code",
      "source": [],
      "metadata": {
        "id": "UVmrnrS8i0Ku"
      },
      "id": "UVmrnrS8i0Ku",
      "execution_count": null,
      "outputs": []
    },
    {
      "cell_type": "markdown",
      "source": [
        "Second, we compute the velocities of the centers of mass of each link."
      ],
      "metadata": {
        "id": "YJZ2UavcjAq0"
      },
      "id": "YJZ2UavcjAq0"
    },
    {
      "cell_type": "code",
      "source": [],
      "metadata": {
        "id": "7wU_pY16jHAF"
      },
      "id": "7wU_pY16jHAF",
      "execution_count": null,
      "outputs": []
    },
    {
      "cell_type": "markdown",
      "source": [
        "At the given state, the velocities are:"
      ],
      "metadata": {
        "id": "NSY2HyPEn8wJ"
      },
      "id": "NSY2HyPEn8wJ"
    },
    {
      "cell_type": "code",
      "source": [
        "# You may use this substitution rule (lengths are in meters here, change if you're doing everything in mm!): \n",
        "# subs([\n",
        "#    (th1, -sqrt(2)),\n",
        "#    (th2, sqrt(3)),\n",
        "#    (r3, sqrt(5)/10),\n",
        "#    (dth1, sqrt(7)),\n",
        "#    (dth2, -sqrt(11)),\n",
        "#    (dr3, sqrt(13)/1000),\n",
        "# ]) \n",
        "\n",
        "## Use N() to report values in decimal form\n",
        "## Specify units of your final answer"
      ],
      "metadata": {
        "id": "6z5Gmkoun-q3"
      },
      "id": "6z5Gmkoun-q3",
      "execution_count": null,
      "outputs": []
    },
    {
      "cell_type": "markdown",
      "source": [
        "Third, we express the angular velocities of each link in convenient frames for the energy calculation."
      ],
      "metadata": {
        "id": "A1vOj7BUjQKs"
      },
      "id": "A1vOj7BUjQKs"
    },
    {
      "cell_type": "code",
      "source": [],
      "metadata": {
        "id": "SaoGvo2zjRnm"
      },
      "id": "SaoGvo2zjRnm",
      "execution_count": null,
      "outputs": []
    },
    {
      "cell_type": "markdown",
      "source": [
        "At the given state, the angular velocities are:"
      ],
      "metadata": {
        "id": "Q4U2Ud49ohWA"
      },
      "id": "Q4U2Ud49ohWA"
    },
    {
      "cell_type": "code",
      "source": [
        "# You may use this substitution rule (lengths are in meters here, change if you're doing everything in mm!): \n",
        "# subs([\n",
        "#    (th1, -sqrt(2)),\n",
        "#    (th2, sqrt(3)),\n",
        "#    (r3, sqrt(5)/10),\n",
        "#    (dth1, sqrt(7)),\n",
        "#    (dth2, -sqrt(11)),\n",
        "#    (dr3, sqrt(13)/1000),\n",
        "# ]) \n",
        "\n",
        "## Use N() to report values in decimal form\n",
        "## Specify units of your final answer"
      ],
      "metadata": {
        "id": "o2j6QP6YokA4"
      },
      "id": "o2j6QP6YokA4",
      "execution_count": null,
      "outputs": []
    },
    {
      "cell_type": "markdown",
      "id": "cleared-logic",
      "metadata": {
        "id": "cleared-logic"
      },
      "source": [
        "Fourth, we compute the inertia tensors of each link. Following the integration procedure here: https://scienceworld.wolfram.com/physics/MomentofInertiaCylinder.html, we know that the inertia tensor of a solid cylinder is"
      ]
    },
    {
      "cell_type": "code",
      "execution_count": null,
      "id": "binding-aurora",
      "metadata": {
        "id": "binding-aurora"
      },
      "outputs": [],
      "source": [
        "# helper functions for inertia calculation\n",
        "\n",
        "def Ic_cylinder(R, H, rho):\n",
        "    Ic = (np.pi * rho * R ** 2 * H) * Matrix([\n",
        "        [(H ** 2) / 12 + (R ** 2) / 4, 0, 0], \n",
        "        [0, (H ** 2) / 12 + (R ** 2) / 4, 0],\n",
        "        [0, 0, (R ** 2) / 2],\n",
        "    ])\n",
        "    return Ic\n",
        "\n",
        "def inertia_particle(p1, p2):\n",
        "    x = p1[0] - p2[0]\n",
        "    y = p1[1] - p2[1]\n",
        "    z = p1[2] - p2[2]\n",
        "    I = Matrix([\n",
        "        [y ** 2 + z ** 2, -x * y, -x * z],\n",
        "        [-x * y, x ** 2 + z ** 2, -y * z],\n",
        "        [-x * z, -y * z, x ** 2 + y ** 2],\n",
        "    ])\n",
        "    return I"
      ]
    },
    {
      "cell_type": "code",
      "source": [],
      "metadata": {
        "id": "5sODK5thjeJN"
      },
      "id": "5sODK5thjeJN",
      "execution_count": null,
      "outputs": []
    },
    {
      "cell_type": "markdown",
      "id": "secondary-jacket",
      "metadata": {
        "id": "secondary-jacket"
      },
      "source": [
        "Finally, we compute the total kinetic energy of the system. \n",
        "\n",
        "Note that inertias and angular velocities can be expressed in any SRT, but the inertia tensor for any particular link and its angular velocity have to expressed in the same SRT for the energy term to make sense."
      ]
    },
    {
      "cell_type": "code",
      "execution_count": null,
      "id": "cognitive-manitoba",
      "metadata": {
        "id": "cognitive-manitoba"
      },
      "outputs": [],
      "source": []
    },
    {
      "cell_type": "markdown",
      "id": "stupid-professional",
      "metadata": {
        "id": "stupid-professional"
      },
      "source": [
        "At the given state, in Nm, the kinetic energy is:\n",
        "\n"
      ]
    },
    {
      "cell_type": "code",
      "execution_count": null,
      "id": "sharing-stylus",
      "metadata": {
        "id": "sharing-stylus"
      },
      "outputs": [],
      "source": [
        "# You may use this substitution rule (lengths are in meters here, change if you're doing everything in mm!): \n",
        "# subs([\n",
        "#    (th1, -sqrt(2)),\n",
        "#    (th2, sqrt(3)),\n",
        "#    (r3, sqrt(5)/10),\n",
        "#    (dth1, sqrt(7)),\n",
        "#    (dth2, -sqrt(11)),\n",
        "#    (dr3, sqrt(13)/1000),\n",
        "# ]) \n",
        "\n",
        "## Use N() to report values in decimal form\n",
        "## Specify units of your final answer"
      ]
    }
  ],
  "metadata": {
    "kernelspec": {
      "display_name": "Python 3",
      "language": "python",
      "name": "python3"
    },
    "language_info": {
      "codemirror_mode": {
        "name": "ipython",
        "version": 3
      },
      "file_extension": ".py",
      "mimetype": "text/x-python",
      "name": "python",
      "nbconvert_exporter": "python",
      "pygments_lexer": "ipython3",
      "version": "3.9.2"
    },
    "colab": {
      "provenance": []
    }
  },
  "nbformat": 4,
  "nbformat_minor": 5
}