{
 "cells": [
  {
   "cell_type": "markdown",
   "id": "occupational-chorus",
   "metadata": {},
   "source": [
    "## Actuated mass on vertical rail\n",
    "\n",
    "In this notebook, we write the Lagrangian equation of motion for a particle of mass $m$ being moved by an actuator along a vertical rail, and demonstrate their numerical implementation. Let the height of the particle from the ground be $y$, and its first and second derivatives be respectively $v_y$ and $a_y$."
   ]
  },
  {
   "cell_type": "code",
   "execution_count": 1,
   "id": "false-cyprus",
   "metadata": {},
   "outputs": [],
   "source": [
    "# imports\n",
    "import numpy as np\n",
    "import sympy as sp\n",
    "from sympy import *\n",
    "from sympy.utilities.lambdify import lambdify, implemented_function\n",
    "from sympy import Function\n",
    "\n",
    "from sympy.vector import *\n",
    "init_printing(use_unicode=True)\n",
    "\n",
    "import matplotlib.pyplot as plt  #This is used for static graphs\n",
    "from mpl_toolkits.mplot3d import Axes3D\n",
    "import mpl_toolkits.mplot3d.axes3d as p3\n"
   ]
  },
  {
   "cell_type": "code",
   "execution_count": 2,
   "id": "quiet-letters",
   "metadata": {},
   "outputs": [
    {
     "data": {
      "image/png": "[encoded data removed]",
      "text/latex": [
       "$\\displaystyle 1.0 \\operatorname{vy}^{2}{\\left(t \\right)} - 19.6 y{\\left(t \\right)}$"
      ],
      "text/plain": [
       "      2               \n",
       "1.0⋅vy (t) - 19.6⋅y(t)"
      ]
     },
     "execution_count": 2,
     "metadata": {},
     "output_type": "execute_result"
    }
   ],
   "source": [
    "y, vy, ay, t = symbols('y vy ay t')\n",
    "\n",
    "m = 2 #mass\n",
    "g = 98/10 #acceleration due to gravity\n",
    "\n",
    "y = Function('y')(t) #position\n",
    "vy = Function('vy')(t) #velocity\n",
    "ay = Function('ay')(t) #acceleration\n",
    "\n",
    "\n",
    "T = 1/2*m*vy**2 #kinetic energy\n",
    "V = m*g*y #potential energy\n",
    "L = T - V #Lagrangian\n",
    "L"
   ]
  },
  {
   "cell_type": "markdown",
   "id": "suburban-agency",
   "metadata": {},
   "source": [
    "In the Lagrangian method, we treat the generalized coordinate $y$ and its derivative $vy$ as independent variables. The equation of motion for this system when there is an external non-conservative force $F$, applied by an actuator vertically upwards, is $$\\frac{\\textrm{d}}{\\textrm{d}t}\\left(\\frac{\\partial{L}}{\\partial{v_y}}\\right) - \\frac{\\partial{L}}{\\partial{y}} = F.$$"
   ]
  },
  {
   "cell_type": "code",
   "execution_count": 3,
   "id": "satellite-channel",
   "metadata": {},
   "outputs": [
    {
     "data": {
      "image/png": "[encoded data removed]",
      "text/latex": [
       "$\\displaystyle 2.0 \\frac{d}{d t} \\operatorname{vy}{\\left(t \\right)} + 19.6$"
      ],
      "text/plain": [
       "    d               \n",
       "2.0⋅──(vy(t)) + 19.6\n",
       "    dt              "
      ]
     },
     "execution_count": 3,
     "metadata": {},
     "output_type": "execute_result"
    }
   ],
   "source": [
    "expr0 = diff(diff(L, vy), t) - diff(L, y) #derive the Lagrangian\n",
    "expr0"
   ]
  },
  {
   "cell_type": "code",
   "execution_count": 4,
   "id": "specialized-warrant",
   "metadata": {},
   "outputs": [
    {
     "data": {
      "image/png": "[encoded data removed]",
      "text/latex": [
       "$\\displaystyle 2.0 \\operatorname{ay}{\\left(t \\right)} + 19.6$"
      ],
      "text/plain": [
       "2.0⋅ay(t) + 19.6"
      ]
     },
     "execution_count": 4,
     "metadata": {},
     "output_type": "execute_result"
    }
   ],
   "source": [
    "expr = expr0.subs(diff(vy, t), ay) #replace derivative of velocity with acceleration \n",
    "expr"
   ]
  },
  {
   "cell_type": "markdown",
   "id": "compound-communications",
   "metadata": {},
   "source": [
    "We can compile this as a numerical function of (in general) $y, vy, ay$:"
   ]
  },
  {
   "cell_type": "code",
   "execution_count": 5,
   "id": "loose-international",
   "metadata": {},
   "outputs": [
    {
     "data": {
      "text/plain": [
       "<function _lambdifygenerated(_Dummy_27, _Dummy_28, _Dummy_29)>"
      ]
     },
     "execution_count": 5,
     "metadata": {},
     "output_type": "execute_result"
    }
   ],
   "source": [
    "expr_func = sp.lambdify((y, vy, ay), expr) #numerical implementation of LHS as a fn of y, vy, ay\n",
    "expr_func"
   ]
  },
  {
   "cell_type": "markdown",
   "id": "casual-corner",
   "metadata": {},
   "source": [
    "Suppose we want the particle to follow a sinusoidal trajectory and (assuming our model of the system is perfect) want to find the values of $F$ to achieve it:\n",
    "\n",
    "$$y_{desired} = 2 \\sin{t}$$\n",
    "\n",
    "We also wish to plot the motion of the particle from $t=0$ to $t=5$s."
   ]
  },
  {
   "cell_type": "code",
   "execution_count": 6,
   "id": "convinced-microphone",
   "metadata": {},
   "outputs": [
    {
     "data": {
      "text/plain": [
       "array([0.        , 0.05050505, 0.1010101 , 0.15151515, 0.2020202 ,\n",
       "       0.25252525, 0.3030303 , 0.35353535, 0.4040404 , 0.45454545,\n",
       "       0.50505051, 0.55555556, 0.60606061, 0.65656566, 0.70707071,\n",
       "       0.75757576, 0.80808081, 0.85858586, 0.90909091, 0.95959596,\n",
       "       1.01010101, 1.06060606, 1.11111111, 1.16161616, 1.21212121,\n",
       "       1.26262626, 1.31313131, 1.36363636, 1.41414141, 1.46464646,\n",
       "       1.51515152, 1.56565657, 1.61616162, 1.66666667, 1.71717172,\n",
       "       1.76767677, 1.81818182, 1.86868687, 1.91919192, 1.96969697,\n",
       "       2.02020202, 2.07070707, 2.12121212, 2.17171717, 2.22222222,\n",
       "       2.27272727, 2.32323232, 2.37373737, 2.42424242, 2.47474747,\n",
       "       2.52525253, 2.57575758, 2.62626263, 2.67676768, 2.72727273,\n",
       "       2.77777778, 2.82828283, 2.87878788, 2.92929293, 2.97979798,\n",
       "       3.03030303, 3.08080808, 3.13131313, 3.18181818, 3.23232323,\n",
       "       3.28282828, 3.33333333, 3.38383838, 3.43434343, 3.48484848,\n",
       "       3.53535354, 3.58585859, 3.63636364, 3.68686869, 3.73737374,\n",
       "       3.78787879, 3.83838384, 3.88888889, 3.93939394, 3.98989899,\n",
       "       4.04040404, 4.09090909, 4.14141414, 4.19191919, 4.24242424,\n",
       "       4.29292929, 4.34343434, 4.39393939, 4.44444444, 4.49494949,\n",
       "       4.54545455, 4.5959596 , 4.64646465, 4.6969697 , 4.74747475,\n",
       "       4.7979798 , 4.84848485, 4.8989899 , 4.94949495, 5.        ])"
      ]
     },
     "execution_count": 6,
     "metadata": {},
     "output_type": "execute_result"
    }
   ],
   "source": [
    "t_vals = np.linspace(0,5,100) #discretize the time interval into 100 instants\n",
    "t_vals"
   ]
  },
  {
   "cell_type": "code",
   "execution_count": 7,
   "id": "engaged-closure",
   "metadata": {},
   "outputs": [
    {
     "data": {
      "image/png": "[encoded data removed]",
      "text/latex": [
       "$\\displaystyle \\left( 10 \\cos{\\left(5 t \\right)}, \\  - 50 \\sin{\\left(5 t \\right)}\\right)$"
      ],
      "text/plain": [
       "(10⋅cos(5⋅t), -50⋅sin(5⋅t))"
      ]
     },
     "execution_count": 7,
     "metadata": {},
     "output_type": "execute_result"
    }
   ],
   "source": [
    "vy_des, ay_des  = symbols('vy_des ay_des')\n",
    "\n",
    "y_des = 2*sin(5*t) #desired position\n",
    "vy_des = diff(y_des, t) #desired velocity\n",
    "ay_des = diff(vy_des, t) #desired acceleration\n",
    "vy_des, ay_des"
   ]
  },
  {
   "cell_type": "markdown",
   "id": "general-horse",
   "metadata": {},
   "source": [
    "Now we can find the values of position and its derivatives at all these times:"
   ]
  },
  {
   "cell_type": "code",
   "execution_count": 8,
   "id": "military-owner",
   "metadata": {},
   "outputs": [
    {
     "data": {
      "text/plain": [
       "array([ 0.        ,  0.49969983,  0.96770328,  1.37432449,  1.69377113,\n",
       "        1.90578043,  1.99690445,  1.96136314,  1.80141089,  1.52719363,\n",
       "        1.15610517,  0.71168398,  0.22212008, -0.2815331 , -0.76732838,\n",
       "       -1.20445138, -1.56517501, -1.82661825, -1.97219755, -1.99267868,\n",
       "       -1.88676252, -1.6611674 , -1.33020303, -0.91486275, -0.44149195,\n",
       "        0.05988306,  0.55745964,  1.01967608,  1.4172136 ,  1.72485605,\n",
       "        1.92308943,  1.99933961,  1.94876998,  1.77458822,  1.48784282,\n",
       "        1.10672228,  0.65540142,  0.16250788, -0.34069366, -0.82228472,\n",
       "       -1.25171757, -1.6017529 , -1.85018769, -1.9812635 , -1.98666608,\n",
       "       -1.86605276, -1.62707412, -1.28488878, -0.86120186, -0.38288818,\n",
       "        0.11971242,  0.61471957,  1.07073453,  1.45883189,  1.75439431,\n",
       "        1.938674  ,  1.99998196,  1.93442937,  1.74617427,  1.44715786,\n",
       "        1.056347  ,  0.59853116,  0.10274997, -0.39954874, -0.87650372,\n",
       "       -1.29786134, -1.63689451, -1.87209807, -1.98855286, -1.97887205,\n",
       "       -1.84366971, -1.59152184, -1.23842238, -0.80676874, -0.32394108,\n",
       "        0.17943444,  0.67142829,  1.12083286,  1.49914206,  1.7823594 ,\n",
       "        1.95252018,  1.99883094,  1.91835416,  1.71619454,  1.40517525,\n",
       "        1.0050245 ,  0.54112419,  0.04289992, -0.45804553, -0.92993677,\n",
       "       -1.34284132, -1.67056832, -1.89232974, -1.99405909, -1.96930357,\n",
       "       -1.81963346, -1.55454245, -1.19084549, -0.7516122 , -0.2647035 ])"
      ]
     },
     "execution_count": 8,
     "metadata": {},
     "output_type": "execute_result"
    }
   ],
   "source": [
    "y_func = sp.lambdify(t, y_des)\n",
    "y_vals = y_func(t_vals) \n",
    "y_vals #position values at time instants"
   ]
  },
  {
   "cell_type": "code",
   "execution_count": 9,
   "id": "single-chapter",
   "metadata": {},
   "outputs": [],
   "source": [
    "vy_func = sp.lambdify(t, vy_des)\n",
    "vy_vals = vy_func(t_vals) #velocity values at time instants\n",
    "\n",
    "ay_func = sp.lambdify(t, ay_des)\n",
    "ay_vals = ay_func(t_vals) #acceleration values at time instants"
   ]
  },
  {
   "cell_type": "markdown",
   "id": "prompt-cotton",
   "metadata": {},
   "source": [
    "and we evaluate the numerical function compiled earlier (left hand side of equation of motion), to get the values of force:"
   ]
  },
  {
   "cell_type": "code",
   "execution_count": 10,
   "id": "waiting-array",
   "metadata": {},
   "outputs": [
    {
     "data": {
      "text/plain": [
       "array([ 19.6       ,  -5.38499164, -28.78516404, -49.11622442,\n",
       "       -65.08855636, -75.68902128, -80.24522269, -78.46815687,\n",
       "       -70.47054462, -56.75968127, -38.20525851, -15.98419914,\n",
       "         8.49399619,  33.67665476,  57.96641918,  79.82256906,\n",
       "        97.85875027, 110.93091251, 118.20987745, 119.23393416,\n",
       "       113.93812584, 102.65837013,  86.1101515 ,  65.3431375 ,\n",
       "        41.67459746,  16.60584696,  -8.27298187, -31.3838038 ,\n",
       "       -51.26067977, -66.64280268, -76.5544714 , -80.36698039,\n",
       "       -77.83849895, -69.12941081, -54.79214083, -35.7361142 ,\n",
       "       -13.17007088,  11.47460585,  36.63468323,  60.7142362 ,\n",
       "        82.18587826,  99.68764494, 112.10938431, 118.66317492,\n",
       "       118.93330425, 112.90263777, 100.95370577,  83.84443917,\n",
       "        62.66009325,  38.74440907,  13.61437876, -11.1359785 ,\n",
       "       -33.93672656, -53.34159461, -68.11971539, -77.33370017,\n",
       "       -80.39909807, -77.12146828, -67.70871367, -52.75789323,\n",
       "       -33.21735021, -10.32655782,  14.46250153,  39.57743676,\n",
       "        63.42518623,  84.49306693, 101.44472532, 113.2049033 ,\n",
       "       119.02764281, 118.54360253, 111.78348556,  99.17609185,\n",
       "        81.52111909,  59.93843718,  35.79705396,  10.62827785,\n",
       "       -13.9714143 , -36.44164314, -55.35710299, -69.51797017,\n",
       "       -78.02600886, -80.34154693, -76.31770784, -66.20972713,\n",
       "       -50.65876258, -30.65122509,  -7.45620973,  17.45500398,\n",
       "        42.5022766 ,  66.09683838,  86.74206624, 103.12841584,\n",
       "       114.21648711, 119.3029543 , 118.06517846, 110.58167277,\n",
       "        97.32712235,  79.14227457,  57.18060978,  32.83517501])"
      ]
     },
     "execution_count": 10,
     "metadata": {},
     "output_type": "execute_result"
    }
   ],
   "source": [
    "F_vals = expr_func(y_vals, vy_vals, ay_vals) #force values at time instants\n",
    "F_vals"
   ]
  },
  {
   "cell_type": "markdown",
   "id": "latter-combination",
   "metadata": {},
   "source": [
    "To check that energy is conserved, we find the rate of change of mechanical energy, first symbolically by differentiating, and then at the time instants chosen for evaluation:"
   ]
  },
  {
   "cell_type": "code",
   "execution_count": 11,
   "id": "widespread-tobacco",
   "metadata": {},
   "outputs": [
    {
     "data": {
      "image/png": "[encoded data removed]",
      "text/latex": [
       "$\\displaystyle 2.0 \\operatorname{ay}{\\left(t \\right)} \\operatorname{vy}{\\left(t \\right)} + 19.6 \\operatorname{vy}{\\left(t \\right)}$"
      ],
      "text/plain": [
       "2.0⋅ay(t)⋅vy(t) + 19.6⋅vy(t)"
      ]
     },
     "execution_count": 11,
     "metadata": {},
     "output_type": "execute_result"
    }
   ],
   "source": [
    "dE = diff(T+V, t).subs([(diff(y, t), vy), (diff(vy, t), ay)]) #differentiate total energy and write in terms of y, vy, ay\n",
    "dE"
   ]
  },
  {
   "cell_type": "code",
   "execution_count": 12,
   "id": "sized-engineering",
   "metadata": {},
   "outputs": [],
   "source": [
    "dE_func = sp.lambdify((y, vy, ay), dE) #numerical implementation to calculate rate of change of energy as fn of y, vy, ay\n",
    "dE_vals = dE_func(y_vals, vy_vals, ay_vals)"
   ]
  },
  {
   "cell_type": "markdown",
   "id": "overall-algebra",
   "metadata": {},
   "source": [
    "and show that the external power delivered ($F\\cdot v$) is exactly equal to the rate of change of the system's total mechanical energy:"
   ]
  },
  {
   "cell_type": "code",
   "execution_count": 13,
   "id": "killing-mason",
   "metadata": {},
   "outputs": [
    {
     "data": {
      "text/plain": [
       "array([ 0.00000000e+00, -1.42108547e-14,  2.84217094e-14, -5.68434189e-14,\n",
       "        5.68434189e-14,  2.84217094e-14, -7.10542736e-15, -2.84217094e-14,\n",
       "        5.68434189e-14,  5.68434189e-14,  0.00000000e+00, -2.84217094e-14,\n",
       "        0.00000000e+00,  5.68434189e-14,  0.00000000e+00,  0.00000000e+00,\n",
       "        0.00000000e+00,  0.00000000e+00,  0.00000000e+00,  0.00000000e+00,\n",
       "        0.00000000e+00, -1.13686838e-13,  0.00000000e+00, -1.13686838e-13,\n",
       "       -5.68434189e-14,  0.00000000e+00, -1.42108547e-14,  0.00000000e+00,\n",
       "       -5.68434189e-14,  5.68434189e-14,  2.84217094e-14, -3.55271368e-15,\n",
       "        2.84217094e-14,  5.68434189e-14,  5.68434189e-14, -5.68434189e-14,\n",
       "        1.42108547e-14,  0.00000000e+00,  0.00000000e+00,  1.13686838e-13,\n",
       "       -1.13686838e-13,  1.13686838e-13,  0.00000000e+00, -2.84217094e-14,\n",
       "       -2.84217094e-14,  0.00000000e+00,  1.13686838e-13, -1.13686838e-13,\n",
       "        0.00000000e+00,  0.00000000e+00,  0.00000000e+00, -1.42108547e-14,\n",
       "        5.68434189e-14,  0.00000000e+00,  0.00000000e+00,  2.84217094e-14,\n",
       "        4.44089210e-16,  2.84217094e-14,  5.68434189e-14,  0.00000000e+00,\n",
       "        0.00000000e+00,  0.00000000e+00, -2.84217094e-14,  0.00000000e+00,\n",
       "        0.00000000e+00,  0.00000000e+00,  1.13686838e-13,  0.00000000e+00,\n",
       "        0.00000000e+00,  0.00000000e+00,  0.00000000e+00, -1.13686838e-13,\n",
       "       -1.13686838e-13,  0.00000000e+00,  0.00000000e+00,  1.42108547e-14,\n",
       "        2.84217094e-14,  0.00000000e+00, -5.68434189e-14,  5.68434189e-14,\n",
       "        0.00000000e+00,  3.55271368e-15, -2.84217094e-14,  0.00000000e+00,\n",
       "        0.00000000e+00,  5.68434189e-14,  2.84217094e-14,  0.00000000e+00,\n",
       "       -5.68434189e-14, -1.13686838e-13,  0.00000000e+00,  0.00000000e+00,\n",
       "       -5.68434189e-14,  0.00000000e+00,  0.00000000e+00,  5.68434189e-14,\n",
       "        0.00000000e+00, -1.13686838e-13,  0.00000000e+00,  0.00000000e+00])"
      ]
     },
     "execution_count": 13,
     "metadata": {},
     "output_type": "execute_result"
    }
   ],
   "source": [
    "power_vals = F_vals*vy_vals - dE_func(y_vals, vy_vals, ay_vals) #power delivered minus energy increase rate\n",
    "power_vals"
   ]
  },
  {
   "cell_type": "markdown",
   "id": "disciplinary-courage",
   "metadata": {},
   "source": [
    "### Plot trajectory of mass"
   ]
  },
  {
   "cell_type": "code",
   "execution_count": 14,
   "id": "civil-trailer",
   "metadata": {},
   "outputs": [
    {
     "data": {
      "image/png": "[encoded data removed]",
      "text/plain": [
       "<Figure size 432x288 with 1 Axes>"
      ]
     },
     "metadata": {
      "needs_background": "light"
     },
     "output_type": "display_data"
    }
   ],
   "source": [
    "fig = plt.figure()\n",
    "ax = fig.add_subplot(111, autoscale_on=True) #if you want to strictly set the bounds\n",
    "ax.grid() #this allows us to see the grid\n",
    "ax.plot(t_vals,y_vals,'r',label='$y(t)$') #Note: when using latex in legends, use double instead of single '\\' for variables\n",
    "ax.plot(t_vals,vy_vals,'g',label='$vy(t)$')\n",
    "ax.plot(t_vals,ay_vals,'b',label='$ay(t)$')\n",
    "ax.legend() #show the legend\n",
    "\n",
    "plt.show() #this says display the info here"
   ]
  },
  {
   "cell_type": "markdown",
   "id": "social-excerpt",
   "metadata": {},
   "source": [
    "### Plot force profile of actuator"
   ]
  },
  {
   "cell_type": "code",
   "execution_count": 15,
   "id": "labeled-tuning",
   "metadata": {},
   "outputs": [
    {
     "data": {
      "image/png": "[encoded data removed]",
      "text/plain": [
       "<Figure size 432x288 with 1 Axes>"
      ]
     },
     "metadata": {
      "needs_background": "light"
     },
     "output_type": "display_data"
    }
   ],
   "source": [
    "fig = plt.figure()\n",
    "ax = fig.add_subplot(111, autoscale_on=True) #if you want to strictly set the bounds\n",
    "ax.grid() #this allows us to see the grid\n",
    "ax.plot(t_vals,F_vals,'r',label='$F(t)$') #Note: when using latex in legends, use double instead of single '\\' for variables\n",
    "ax.legend() #show the legend\n",
    "\n",
    "plt.show() #this says display the info here"
   ]
  },
  {
   "cell_type": "markdown",
   "id": "reliable-enclosure",
   "metadata": {},
   "source": [
    "### Energy conservation check "
   ]
  },
  {
   "cell_type": "code",
   "execution_count": 16,
   "id": "virgin-mortgage",
   "metadata": {},
   "outputs": [
    {
     "data": {
      "image/png": "[encoded data removed]",
      "text/plain": [
       "<Figure size 432x288 with 1 Axes>"
      ]
     },
     "metadata": {
      "needs_background": "light"
     },
     "output_type": "display_data"
    }
   ],
   "source": [
    "fig = plt.figure()\n",
    "ax = fig.add_subplot(111, autoscale_on=True) #if you want to strictly set the bounds\n",
    "ax.grid() #this allows us to see the grid\n",
    "ax.plot(t_vals,power_vals,'r',label='$\\\\dot{E}_{system}$') #Note: when using latex in legends, use double instead of single '\\' for variables\n",
    "ax.legend() #show the legend\n",
    "\n",
    "plt.show() #this says display the info here"
   ]
  },
  {
   "cell_type": "markdown",
   "id": "regulation-egyptian",
   "metadata": {},
   "source": [
    "#### Alternative method"
   ]
  },
  {
   "cell_type": "markdown",
   "id": "available-edmonton",
   "metadata": {},
   "source": [
    "In this case, since we know $y$ and its derivatives in the closed-form here, we can also substitute symbolically and derive the force as a function of time before going to the numerical implementation:"
   ]
  },
  {
   "cell_type": "code",
   "execution_count": 17,
   "id": "rolled-austin",
   "metadata": {},
   "outputs": [
    {
     "data": {
      "image/png": "[encoded data removed]",
      "text/latex": [
       "$\\displaystyle 19.6 - 100.0 \\sin{\\left(5 t \\right)}$"
      ],
      "text/plain": [
       "19.6 - 100.0⋅sin(5⋅t)"
      ]
     },
     "execution_count": 17,
     "metadata": {},
     "output_type": "execute_result"
    }
   ],
   "source": [
    "expr_t = expr.subs([(vy, vy_des), (ay, ay_des)])\n",
    "expr_t"
   ]
  },
  {
   "cell_type": "code",
   "execution_count": 18,
   "id": "reliable-korean",
   "metadata": {},
   "outputs": [],
   "source": [
    "expr_t_func = sp.lambdify(t, expr_t) \n",
    "expr_t_vals = expr_t_func(t_vals)"
   ]
  },
  {
   "cell_type": "code",
   "execution_count": 19,
   "id": "weighted-container",
   "metadata": {},
   "outputs": [
    {
     "data": {
      "image/png": "[encoded data removed]",
      "text/plain": [
       "<Figure size 432x288 with 1 Axes>"
      ]
     },
     "metadata": {
      "needs_background": "light"
     },
     "output_type": "display_data"
    }
   ],
   "source": [
    "#check that same forces are calculated by this method\n",
    "fig = plt.figure()\n",
    "ax = fig.add_subplot(111, autoscale_on=True) #if you want to strictly set the bounds\n",
    "ax.grid() #this allows us to see the grid\n",
    "ax.plot(t_vals, F_vals-expr_t_vals,'r',label='$F_1(t)-F_2(t)$') #Note: when using latex in legends, use double instead of single '\\' for variables\n",
    "ax.legend() #show the legend\n",
    "\n",
    "plt.show() #this says display the info here"
   ]
  }
 ],
 "metadata": {
  "kernelspec": {
   "display_name": "Python 3",
   "language": "python",
   "name": "python3"
  },
  "language_info": {
   "codemirror_mode": {
    "name": "ipython",
    "version": 3
   },
   "file_extension": ".py",
   "mimetype": "text/x-python",
   "name": "python",
   "nbconvert_exporter": "python",
   "pygments_lexer": "ipython3",
   "version": "3.6.9"
  }
 },
 "nbformat": 4,
 "nbformat_minor": 5
}
