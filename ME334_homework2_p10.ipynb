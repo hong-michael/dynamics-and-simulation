{
  "cells": [
    {
      "cell_type": "markdown",
      "metadata": {
        "id": "_rKHd4aEL8OF"
      },
      "source": [
        "# Homework 2 (Problem 10, 1pt)\n",
        "## ME 334: Advanced Dynamics, Control and System Identification\n",
        "### Stanford University"
      ]
    },
    {
      "cell_type": "markdown",
      "metadata": {
        "id": "5g4aiRtJL8OH"
      },
      "source": [
        "## Problem Statement: Forward Kinematics of 2-Link Manipulator\n",
        "\n",
        "![h3p5.png](attachment:h3p5.png)\n",
        "\n",
        "Given the 2-Link manipulator as shown in the figure, where frame $A$ is the fixed world frame, frame $B$ is allowed to rotate with angular velocity: \n",
        "$$^{A}{\\omega}^{B} = 0 \\hat{a}_{1} + 0 \\hat{a}_{2} + \\dot{\\theta}_1\\hat{a}_{3}$$\n",
        "Frame $C$ as seen by $B$ is described by the vector fixed in $B$:\n",
        "$$^{B}r^C = 0 \\hat{b}_{1} + L_1 \\hat{b}_{2} + 0 \\hat{b}_{3}$$\n",
        "Frame $C$ rotates with respect to frame $B$ with \n",
        "$$ ^{B}\\omega^{C} = \\dot{\\theta}_2 \\hat{b}_{1} + 0 \\hat{b}_{2} + 0 \\hat{b}_{3}$$\n",
        "And frame $D$ position as seen by $C$ is described by the vector fixed in C:\n",
        "$$^{C}{{r}}^{D} = 0 \\hat{c}_{1} + 0 \\hat{c}_{2} + L_2 \\hat{c}_{3} $$\n",
        "Point ${P}$ is the point that sits at the origin of frame $D$\n",
        "\n",
        "1. Express the forward kinematics function (FK):\n",
        "$$^{A}{P} = FK(\\theta_1, \\theta_2, L_1, L_2)$$\n",
        "\n",
        "2. Evaluate and plot the above function ($FK(\\cdot)$ for every combination of $\\theta_1 \\in [0,2\\pi]$, $\\theta_2 \\in [0,2\\pi]$\n",
        "at a resolution of at least $\\Delta \\theta_i = \\frac{10^{\\circ} \\pi}{180^{\\circ}}$. \n",
        "\n",
        "*Hint:* \n",
        "1. *Make a function that evaluates the forward kinematics for the end-effector point P, then* \n",
        "2. *Make a function that cycles through $\\theta_{1,i}, \\theta_{2,j}$ and makes a list of all the points $P_{ij}$.* \n",
        "3. *Use matplotlib 3D plot to plot scatter points (if you reason about the orientation of the revolute joints, you will expect to see a Torus shape mapped by the end-effector!)*"
      ]
    },
    {
      "cell_type": "code",
      "execution_count": null,
      "metadata": {
        "id": "zw_XNoYuL8OH"
      },
      "outputs": [],
      "source": [
        "import itertools  # hint: itertools.product might be useful\n",
        "import numpy as np\n",
        "import matplotlib.pyplot as plt\n",
        "import mpl_toolkits.mplot3d.axes3d as p3\n",
        "from matplotlib import animation, rc\n",
        "from mpl_toolkits.mplot3d import Axes3D\n",
        "from scipy.integrate import solve_ivp\n",
        "\n",
        "%matplotlib inline"
      ]
    },
    {
      "cell_type": "code",
      "execution_count": null,
      "metadata": {
        "id": "K3VUbP7PL8OI"
      },
      "outputs": [],
      "source": [
        "# values of theta1 and theta2 at which you should plot the location of point P\n",
        "theta1_list = np.linspace(0, 2 * np.pi, 37)\n",
        "theta2_list = np.linspace(0, 2 * np.pi, 37)"
      ]
    },
    {
      "cell_type": "markdown",
      "metadata": {
        "id": "-0CNaGQeL8OI"
      },
      "source": [
        "## Your Code Here"
      ]
    }
  ],
  "metadata": {
    "kernelspec": {
      "display_name": "Python 3",
      "language": "python",
      "name": "python3"
    },
    "language_info": {
      "codemirror_mode": {
        "name": "ipython",
        "version": 3
      },
      "file_extension": ".py",
      "mimetype": "text/x-python",
      "name": "python",
      "nbconvert_exporter": "python",
      "pygments_lexer": "ipython3",
      "version": "3.8.5"
    },
    "colab": {
      "provenance": []
    }
  },
  "nbformat": 4,
  "nbformat_minor": 0
}